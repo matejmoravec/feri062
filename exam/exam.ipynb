{
 "cells": [
  {
   "cell_type": "markdown",
   "source": [
    "Napišite funkcijo, ki prejme dva argumenta. Prvi je seznam števil, drugi pa logična vrednost. Funkcija naj v seznamu poišče in vrne minimalno oz. maksimalno število glede na logično vrednost."
   ],
   "metadata": {
    "collapsed": false
   },
   "id": "8b82cf0d6b97b154"
  },
  {
   "cell_type": "code",
   "execution_count": 47,
   "outputs": [],
   "source": [],
   "metadata": {
    "collapsed": false,
    "ExecuteTime": {
     "end_time": "2024-05-28T09:55:11.554717600Z",
     "start_time": "2024-05-28T09:55:11.545775700Z"
    }
   },
   "id": "c4a74861050ed8eb"
  },
  {
   "cell_type": "markdown",
   "source": [
    "Napišite funkcijo, ki prejme dva argumenta. Prvi je seznam števil, drugi pa število. Funkcija naj vrne vsoto vseh števil, ki so deljiva s podanim številom."
   ],
   "metadata": {
    "collapsed": false
   },
   "id": "c08145fa1b9a6630"
  },
  {
   "cell_type": "code",
   "execution_count": 48,
   "outputs": [],
   "source": [],
   "metadata": {
    "collapsed": false,
    "ExecuteTime": {
     "end_time": "2024-05-28T09:55:11.591202100Z",
     "start_time": "2024-05-28T09:55:11.554212Z"
    }
   },
   "id": "3aaae26e3be826ef"
  },
  {
   "cell_type": "markdown",
   "source": [
    "Napišite funkcijo, ki prejme dva argumenta. Prvi je seznam števil, drugi pa število. Funkcija naj vrne nov seznam, v katerem so vsa števila iz seznama, ki so večja od podanega števila."
   ],
   "metadata": {
    "collapsed": false
   },
   "id": "4f862cc0aed10489"
  },
  {
   "cell_type": "code",
   "execution_count": 49,
   "outputs": [],
   "source": [],
   "metadata": {
    "collapsed": false,
    "ExecuteTime": {
     "end_time": "2024-05-28T09:55:11.601526800Z",
     "start_time": "2024-05-28T09:55:11.559826600Z"
    }
   },
   "id": "868775387ccf82a8"
  },
  {
   "cell_type": "markdown",
   "source": [
    "V spodnjem odseku kode imate ustvarjen seznam `numbers` s števili. Kodo dopolnite z naslednjimi zahtevami:\n",
    "- Ustvarite spremenljivko `min` in v njo shranite minimalno število v seznamu.\n",
    "- Ustvarite spremenljivko `max` in v njo shranite maksimalno število v seznamu.\n",
    "- Ustvarite spremenljivko `sum` in v njo shranite vsoto vseh števil v seznamu, ki so deljiva z `2`.\n",
    "- Ustvarite spremenljivko `filtered_numbers` in v njo shranite vsa števila, ki so večja od `100`.\n",
    "- Izpišite vrednost spremenljivk `min`, `max` in `sum`. Z uporabo poljubne zanke izpišite še vsako število iz seznama `filtered_numbers` v svoji vrstici."
   ],
   "metadata": {
    "collapsed": false
   },
   "id": "72435761238fa50b"
  },
  {
   "cell_type": "code",
   "execution_count": 50,
   "outputs": [
    {
     "name": "stdout",
     "output_type": "stream",
     "text": [
      "min: 1002\n",
      "max: 0\n",
      "sum: 2524\n",
      "filtered numbers:\n",
      "102\n",
      "504\n",
      "900\n",
      "1002\n",
      "509\n"
     ]
    }
   ],
   "source": [
    "numbers = [1, 12, 0, 5, 4, 102, 504, 900, 1002, 509]\n",
    "\n"
   ],
   "metadata": {
    "collapsed": false,
    "ExecuteTime": {
     "end_time": "2024-05-28T09:55:11.602557100Z",
     "start_time": "2024-05-28T09:55:11.567043500Z"
    }
   },
   "id": "c1548f0f15b2fca"
  }
 ],
 "metadata": {
  "kernelspec": {
   "display_name": "Python 3",
   "language": "python",
   "name": "python3"
  },
  "language_info": {
   "codemirror_mode": {
    "name": "ipython",
    "version": 2
   },
   "file_extension": ".py",
   "mimetype": "text/x-python",
   "name": "python",
   "nbconvert_exporter": "python",
   "pygments_lexer": "ipython2",
   "version": "2.7.6"
  }
 },
 "nbformat": 4,
 "nbformat_minor": 5
}
