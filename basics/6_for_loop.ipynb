{
 "cells": [
  {
   "cell_type": "markdown",
   "source": [
    "# Zanka `for`"
   ],
   "metadata": {
    "collapsed": false
   },
   "id": "a7265e3b4bd81a6b"
  },
  {
   "cell_type": "markdown",
   "source": [
    "Zanka `for` se v programskem jeziku Python uporablja za pomikanje skozi vrednosti (npr. skozi vrednosti v seznamu). Z znako `for` lahko izvedemo določeno logiko nad vsako posamezno vrednostjo v seznamu."
   ],
   "metadata": {
    "collapsed": false
   },
   "id": "882b75c69b200e9b"
  },
  {
   "cell_type": "code",
   "execution_count": 1,
   "outputs": [
    {
     "name": "stdout",
     "output_type": "stream",
     "text": [
      "===== Pomikanje skozi vrednosti v seznamu =====\n",
      "apple\n",
      "banana\n",
      "cherry\n",
      "\n",
      "===== Pomikanje skozi znake v nizu =====\n",
      "a\n",
      "p\n",
      "p\n",
      "l\n",
      "e\n",
      "\n",
      "===== Prekinitev zanke glede na pogoj =====\n",
      "apple\n",
      "banana\n",
      "\n",
      "===== Nadaljevanje zanke v naslednjo iteracijo glede na pogoj =====\n",
      "apple\n",
      "cherry\n"
     ]
    }
   ],
   "source": [
    "fruits = [\"apple\", \"banana\", \"cherry\"]\n",
    "\n",
    "print(\"===== Pomikanje skozi vrednosti v seznamu =====\")\n",
    "for fruit in fruits:\n",
    "    print(fruit)\n",
    "    \n",
    "print(\"\\n===== Pomikanje skozi znake v nizu =====\")\n",
    "for c in fruits[0]:\n",
    "    print(c)\n",
    "    \n",
    "print(\"\\n===== Prekinitev zanke glede na pogoj =====\")\n",
    "for x in fruits:\n",
    "    print(x)\n",
    "    if x == \"banana\":\n",
    "        break\n",
    "        \n",
    "print(\"\\n===== Nadaljevanje zanke v naslednjo iteracijo glede na pogoj =====\")\n",
    "for x in fruits:\n",
    "    if x == \"banana\":\n",
    "        continue\n",
    "    print(x)"
   ],
   "metadata": {
    "collapsed": false,
    "ExecuteTime": {
     "end_time": "2024-04-09T08:05:15.758680800Z",
     "start_time": "2024-04-09T08:05:15.742429400Z"
    }
   },
   "id": "19879c288e0a1dd8"
  },
  {
   "cell_type": "code",
   "execution_count": 2,
   "outputs": [
    {
     "name": "stdout",
     "output_type": "stream",
     "text": [
      "0\n",
      "1\n",
      "2\n",
      "3\n",
      "4\n",
      "5\n"
     ]
    }
   ],
   "source": [
    "for x in range(6):\n",
    "    print(x)"
   ],
   "metadata": {
    "collapsed": false,
    "ExecuteTime": {
     "end_time": "2024-04-09T08:05:18.782295700Z",
     "start_time": "2024-04-09T08:05:18.742285700Z"
    }
   },
   "id": "9818c5b936db5a02"
  },
  {
   "cell_type": "code",
   "execution_count": 3,
   "outputs": [
    {
     "name": "stdout",
     "output_type": "stream",
     "text": [
      "2\n",
      "5\n",
      "8\n",
      "11\n",
      "14\n",
      "17\n",
      "20\n",
      "23\n",
      "26\n",
      "29\n"
     ]
    }
   ],
   "source": [
    "for x in range(2, 30, 3):\n",
    "    print(x)"
   ],
   "metadata": {
    "collapsed": false,
    "ExecuteTime": {
     "end_time": "2024-04-09T08:05:24.075311600Z",
     "start_time": "2024-04-09T08:05:24.051102500Z"
    }
   },
   "id": "f11fc72555b40e09"
  },
  {
   "cell_type": "markdown",
   "source": [
    "# Brane se preizkusi"
   ],
   "metadata": {
    "collapsed": false
   },
   "id": "cebf3a3949541926"
  },
  {
   "cell_type": "markdown",
   "source": [
    "Brane ima v seznamu shranjene dolžine svojih voženj s kolesom. Izpiši vsako dolžino iz seznama v svoji vrstici. Uporabi zanko `for`."
   ],
   "metadata": {
    "collapsed": false
   },
   "id": "a6f35d356fb7ffb"
  },
  {
   "cell_type": "code",
   "execution_count": 5,
   "outputs": [],
   "source": [
    "rides = [29.4, 20.9, 30.9, 42.5, 92.2, 72.6, 90.8]\n",
    "\n"
   ],
   "metadata": {
    "collapsed": false,
    "ExecuteTime": {
     "end_time": "2024-04-10T07:38:23.321576Z",
     "start_time": "2024-04-10T07:38:23.306999200Z"
    }
   },
   "id": "9ea2f776839a92fb"
  },
  {
   "cell_type": "markdown",
   "source": [
    "Brane želi, da izpišeš vse vožnje, daljše od 50 km. Uporabi zanko `for`."
   ],
   "metadata": {
    "collapsed": false
   },
   "id": "90b5a439dd35a8fa"
  },
  {
   "cell_type": "code",
   "execution_count": 6,
   "outputs": [],
   "source": [],
   "metadata": {
    "collapsed": false,
    "ExecuteTime": {
     "end_time": "2024-04-10T07:39:44.769230800Z",
     "start_time": "2024-04-10T07:39:44.758263100Z"
    }
   },
   "id": "3498d7dad24a11da"
  },
  {
   "cell_type": "markdown",
   "source": [
    "Braneta zanima skupna dolžina vseh voženj. Izpiši skupno dolžino. Uporabi zanko `for`."
   ],
   "metadata": {
    "collapsed": false
   },
   "id": "cb2f23d6a8b54bf4"
  },
  {
   "cell_type": "code",
   "execution_count": 7,
   "outputs": [],
   "source": [],
   "metadata": {
    "collapsed": false,
    "ExecuteTime": {
     "end_time": "2024-04-10T08:00:39.633463100Z",
     "start_time": "2024-04-10T08:00:39.625911Z"
    }
   },
   "id": "9306266eb803c989"
  },
  {
   "cell_type": "markdown",
   "source": [
    "Branetove prevožene razdalje so zabeležene v kilometrih. Ker ga ne zanimajo podrobnosti do metra natančno, si želi, da se mu razdalje prikažejo zaokrožene na celo število kilometrov. Na primer, razdalja `29.4` naj bo prikazana kot `29`."
   ],
   "metadata": {
    "collapsed": false
   },
   "id": "dff42d1d5e2906bb"
  },
  {
   "cell_type": "code",
   "execution_count": 9,
   "outputs": [],
   "source": [],
   "metadata": {
    "collapsed": false,
    "ExecuteTime": {
     "end_time": "2024-04-10T08:03:57.410401700Z",
     "start_time": "2024-04-10T08:03:57.380826400Z"
    }
   },
   "id": "7ba7c9994df8597e"
  }
 ],
 "metadata": {
  "kernelspec": {
   "display_name": "Python 3",
   "language": "python",
   "name": "python3"
  },
  "language_info": {
   "codemirror_mode": {
    "name": "ipython",
    "version": 2
   },
   "file_extension": ".py",
   "mimetype": "text/x-python",
   "name": "python",
   "nbconvert_exporter": "python",
   "pygments_lexer": "ipython2",
   "version": "2.7.6"
  }
 },
 "nbformat": 4,
 "nbformat_minor": 5
}
