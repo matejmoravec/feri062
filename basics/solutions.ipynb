{
 "cells": [
  {
   "cell_type": "markdown",
   "source": [
    "# Rešitve nalog Brane se preizkusi"
   ],
   "metadata": {
    "collapsed": false
   },
   "id": "837bd5623eee312b"
  },
  {
   "cell_type": "markdown",
   "source": [
    "Rešitve za datoteko [`1_variables.ipynb`](1_variables.ipynb)"
   ],
   "metadata": {
    "collapsed": false
   },
   "id": "da3fd2ce6ac6e16c"
  },
  {
   "cell_type": "markdown",
   "source": [
    "Brane želi v spremenljivko shraniti ime prijatelja Zvoneta. Pomagaj Branetu poimenovati spremenljivko in v njo shraniti prijateljevo ime."
   ],
   "metadata": {
    "collapsed": false
   },
   "id": "5804801798aa091f"
  },
  {
   "cell_type": "code",
   "execution_count": 114,
   "outputs": [],
   "source": [
    "friend_name = \"Zvone\""
   ],
   "metadata": {
    "collapsed": false,
    "ExecuteTime": {
     "end_time": "2024-05-08T11:39:00.489538700Z",
     "start_time": "2024-05-08T11:39:00.287333100Z"
    }
   },
   "id": "51e6024544fd3525"
  },
  {
   "cell_type": "markdown",
   "source": [
    "Zvone ni edini Branetov prijatelj. Branetov najboljši prijatelj je Jure in letos slavi svoj 19. rojstni dan. Shrani Juretovo starost v novo spremenljivko."
   ],
   "metadata": {
    "collapsed": false
   },
   "id": "d899276dbce16cc2"
  },
  {
   "cell_type": "code",
   "execution_count": 115,
   "outputs": [],
   "source": [
    "jure_age = 19"
   ],
   "metadata": {
    "collapsed": false,
    "ExecuteTime": {
     "end_time": "2024-05-08T11:39:00.489538700Z",
     "start_time": "2024-05-08T11:39:00.292685700Z"
    }
   },
   "id": "a0a1f9e5ca0b8031"
  },
  {
   "cell_type": "markdown",
   "source": [
    "Rešitve za datoteko [`2_data_types.ipynb`](2_data_types.ipynb)"
   ],
   "metadata": {
    "collapsed": false
   },
   "id": "df7a12042a410665"
  },
  {
   "cell_type": "markdown",
   "source": [
    "Brane ima pet metrskega pitona. Pomagaj Branetu v spremenljivko `a` shraniti celo število `5`."
   ],
   "metadata": {
    "collapsed": false
   },
   "id": "f6c89a0c9395343a"
  },
  {
   "cell_type": "code",
   "execution_count": 116,
   "outputs": [],
   "source": [
    "a = 5"
   ],
   "metadata": {
    "collapsed": false,
    "ExecuteTime": {
     "end_time": "2024-05-08T11:39:00.503011700Z",
     "start_time": "2024-05-08T11:39:00.302166100Z"
    }
   },
   "id": "ea2e9e90db972fe9"
  },
  {
   "cell_type": "markdown",
   "source": [
    "Sedaj želi dolžino svojega pitona pretvoriti v decimalno število in vrednost shraniti v spremenljivko `b`."
   ],
   "metadata": {
    "collapsed": false
   },
   "id": "6fd26a4b57ca9cc2"
  },
  {
   "cell_type": "code",
   "execution_count": 117,
   "outputs": [],
   "source": [
    "b = float(a)"
   ],
   "metadata": {
    "collapsed": false,
    "ExecuteTime": {
     "end_time": "2024-05-08T11:39:00.607421800Z",
     "start_time": "2024-05-08T11:39:00.308842100Z"
    }
   },
   "id": "9655744d6f4d8e14"
  },
  {
   "cell_type": "markdown",
   "source": [
    "Maksimalna dolžina pitona je lahko nekje do 10 metrov. Izpiši naključno celo število med `1` in `10` (vključno z `1` in `10`)."
   ],
   "metadata": {
    "collapsed": false
   },
   "id": "168be39faf27ee75"
  },
  {
   "cell_type": "code",
   "execution_count": 118,
   "outputs": [
    {
     "name": "stdout",
     "output_type": "stream",
     "text": [
      "6\n"
     ]
    }
   ],
   "source": [
    "import random\n",
    "\n",
    "print(random.randint(1, 10))"
   ],
   "metadata": {
    "collapsed": false,
    "ExecuteTime": {
     "end_time": "2024-05-08T11:39:00.621028300Z",
     "start_time": "2024-05-08T11:39:00.315569200Z"
    }
   },
   "id": "81cbc3d8c8492044"
  },
  {
   "cell_type": "markdown",
   "source": [
    "Branetovo ime je v resnici Branko. Brane želi svoje resnično ime shraniti v spremenljivko. Pomagaj mu."
   ],
   "metadata": {
    "collapsed": false
   },
   "id": "39542bb781f961c8"
  },
  {
   "cell_type": "code",
   "execution_count": 119,
   "outputs": [],
   "source": [
    "first_name = \"Branko\""
   ],
   "metadata": {
    "collapsed": false,
    "ExecuteTime": {
     "end_time": "2024-05-08T11:39:00.625056100Z",
     "start_time": "2024-05-08T11:39:00.323880400Z"
    }
   },
   "id": "56a062bcdc589374"
  },
  {
   "cell_type": "markdown",
   "source": [
    "Izpiši le prvo črko Branetovega resničnega imena tako, da uporabiš spremenljivko iz predhodnega primera."
   ],
   "metadata": {
    "collapsed": false
   },
   "id": "1acb64ec8c5122ba"
  },
  {
   "cell_type": "code",
   "execution_count": 120,
   "outputs": [
    {
     "name": "stdout",
     "output_type": "stream",
     "text": [
      "B\n"
     ]
    }
   ],
   "source": [
    "print(first_name[0])"
   ],
   "metadata": {
    "collapsed": false,
    "ExecuteTime": {
     "end_time": "2024-05-08T11:39:00.635343900Z",
     "start_time": "2024-05-08T11:39:00.330930400Z"
    }
   },
   "id": "8f033a33ec73da86"
  },
  {
   "cell_type": "markdown",
   "source": [
    "Pomagaj Branetu dopolniti spodnji primer kode tako, da se v primeru, da je vrednost spremenljivke `g` večja od spremenljivke `k`, izpiše Branetov vzdevek, v nasprotnem primeru se mora izpisati njegovo pravo ime."
   ],
   "metadata": {
    "collapsed": false
   },
   "id": "8487c7c27cacba62"
  },
  {
   "cell_type": "code",
   "execution_count": 121,
   "outputs": [
    {
     "name": "stdout",
     "output_type": "stream",
     "text": [
      "Branko\n"
     ]
    }
   ],
   "source": [
    "g = 90\n",
    "k = 102\n",
    "\n",
    "if g > k:\n",
    "    print(\"Brane\")\n",
    "else:\n",
    "    print(first_name)"
   ],
   "metadata": {
    "collapsed": false,
    "ExecuteTime": {
     "end_time": "2024-05-08T11:39:00.635343900Z",
     "start_time": "2024-05-08T11:39:00.338856900Z"
    }
   },
   "id": "a993739ef51fcd08"
  },
  {
   "cell_type": "markdown",
   "source": [
    "Rešitve za datoteko [`3_lists.ipynb`](3_lists.ipynb)"
   ],
   "metadata": {
    "collapsed": false
   },
   "id": "fedf2f5a907993f4"
  },
  {
   "cell_type": "markdown",
   "source": [
    "Brane je svojemu pitonu dal ime Jure. Zraven pitona ima še psa z imenom Rex, hrčka z imenom Bobi in muco z imenom Bela. Shrani imena Branetovih živali v en seznam."
   ],
   "metadata": {
    "collapsed": false
   },
   "id": "26d46da5482d1823"
  },
  {
   "cell_type": "code",
   "execution_count": 122,
   "outputs": [],
   "source": [
    "animals = [\"Jure\", \"Rex\", \"Bobi\", \"Bela\"]"
   ],
   "metadata": {
    "collapsed": false,
    "ExecuteTime": {
     "end_time": "2024-05-08T11:39:00.647618300Z",
     "start_time": "2024-05-08T11:39:00.347299600Z"
    }
   },
   "id": "d1ab80f771fca4e"
  },
  {
   "cell_type": "markdown",
   "source": [
    "Izpiši drugo ime iz seznama."
   ],
   "metadata": {
    "collapsed": false
   },
   "id": "c04183ace3d895b6"
  },
  {
   "cell_type": "code",
   "execution_count": 123,
   "outputs": [
    {
     "name": "stdout",
     "output_type": "stream",
     "text": [
      "Rex\n"
     ]
    }
   ],
   "source": [
    "print(animals[1])"
   ],
   "metadata": {
    "collapsed": false,
    "ExecuteTime": {
     "end_time": "2024-05-08T11:39:00.649618900Z",
     "start_time": "2024-05-08T11:39:00.354965Z"
    }
   },
   "id": "4e851c922053b283"
  },
  {
   "cell_type": "markdown",
   "source": [
    "V seznam dodaj še ime Branetovo papige z imenom Justa."
   ],
   "metadata": {
    "collapsed": false
   },
   "id": "e6f22f99b1a1f976"
  },
  {
   "cell_type": "code",
   "execution_count": 124,
   "outputs": [],
   "source": [
    "animals.append(\"Justa\")"
   ],
   "metadata": {
    "collapsed": false,
    "ExecuteTime": {
     "end_time": "2024-05-08T11:39:00.652115900Z",
     "start_time": "2024-05-08T11:39:00.362637Z"
    }
   },
   "id": "f545f64d07109dfb"
  },
  {
   "cell_type": "markdown",
   "source": [
    "Rešitve za datoteko [`4_conditions.ipynb`](4_conditions.ipynb)"
   ],
   "metadata": {
    "collapsed": false
   },
   "id": "822643556193b597"
  },
  {
   "cell_type": "markdown",
   "source": [
    "Brane in njegov prijatelj Zvone imata oba pitona. Branetov piton je dolg pet metrov, medtem, ko je piton od Zvoneta dolg le dva metra. Shrani dolžino vsakega pitona v svojo spremenljivko in zapiši pogojni stavek, ki bo preveril ali je Branetov piton daljši od Zvonetovega. V primeru, da je daljši, izpiši besedilo \"Brane ima daljšega pitona od Zvoneta\", če imata oba isto dolge pitone, izpiši \"Brane in Zvone imata isto dolga pitona\", če ne, izpiši besedilo \"Zvonetov piton je daljši od Branetovega\"."
   ],
   "metadata": {
    "collapsed": false
   },
   "id": "8760d043ed62597b"
  },
  {
   "cell_type": "code",
   "execution_count": 125,
   "outputs": [
    {
     "name": "stdout",
     "output_type": "stream",
     "text": [
      "Brane ima daljšega pitona od Zvoneta\n"
     ]
    }
   ],
   "source": [
    "brane_python_length = 5\n",
    "zvone_python_length = 2\n",
    "\n",
    "if brane_python_length > zvone_python_length:\n",
    "    print(\"Brane ima daljšega pitona od Zvoneta\")\n",
    "elif brane_python_length == zvone_python_length:\n",
    "    print(\"Brane in Zvone imata isto dolga pitona\")\n",
    "else:\n",
    "    print(\"Zvonetov piton je daljši od Branetovega\")"
   ],
   "metadata": {
    "collapsed": false,
    "ExecuteTime": {
     "end_time": "2024-05-08T11:39:00.661320200Z",
     "start_time": "2024-05-08T11:39:00.372806400Z"
    }
   },
   "id": "187093b715a386ac"
  },
  {
   "cell_type": "markdown",
   "source": [
    "Rešitve za datoteko [`5_operators.ipynb`](5_operators.ipynb)"
   ],
   "metadata": {
    "collapsed": false
   },
   "id": "3c2a6f41addcd62e"
  },
  {
   "cell_type": "markdown",
   "source": [
    "Brane ima dve jabolki in tri hruške. Shrani količino jabolk v svojo spremenljivko in količino hrušk v svojo. V novi spremenljivki seštej koliko sadežev ima Brane. Izpiši skupno količino."
   ],
   "metadata": {
    "collapsed": false
   },
   "id": "439b91f1562997a1"
  },
  {
   "cell_type": "code",
   "execution_count": 126,
   "outputs": [
    {
     "name": "stdout",
     "output_type": "stream",
     "text": [
      "5\n"
     ]
    }
   ],
   "source": [
    "apples = 2\n",
    "pears = 3\n",
    "\n",
    "fruits = apples + pears\n",
    "\n",
    "print(fruits)"
   ],
   "metadata": {
    "collapsed": false,
    "ExecuteTime": {
     "end_time": "2024-05-08T11:39:00.665349200Z",
     "start_time": "2024-05-08T11:39:00.382996500Z"
    }
   },
   "id": "b329ff4f9670303f"
  },
  {
   "cell_type": "markdown",
   "source": [
    "Brane ima novo košaro in z njo se odpravi pod jablano. Na tleh najde petindvajset jabolk. Koliko jabolk ostane na tleh, če je maksimalna kapaciteta košare dvajset jabolk?"
   ],
   "metadata": {
    "collapsed": false
   },
   "id": "e138e66b36212834"
  },
  {
   "cell_type": "code",
   "execution_count": 127,
   "outputs": [
    {
     "name": "stdout",
     "output_type": "stream",
     "text": [
      "Na tleh ostane 5 jabolk\n"
     ]
    }
   ],
   "source": [
    "apples_found = 25\n",
    "basket_capacity = 20\n",
    "\n",
    "apples_left = apples_found - basket_capacity\n",
    "print(\"Na tleh ostane\", apples_left, \"jabolk\")"
   ],
   "metadata": {
    "collapsed": false,
    "ExecuteTime": {
     "end_time": "2024-05-08T11:39:00.669349700Z",
     "start_time": "2024-05-08T11:39:00.391003700Z"
    }
   },
   "id": "3fe4ce8ebafe9205"
  },
  {
   "cell_type": "markdown",
   "source": [
    "Rešitve za datoteko [`6_for_loop.ipynb`](6_for_loop.ipynb)"
   ],
   "metadata": {
    "collapsed": false
   },
   "id": "6a3f2653866a4c84"
  },
  {
   "cell_type": "markdown",
   "source": [
    "Brane ima v seznamu shranjene dolžine svojih voženj s kolesom. Izpiši vsako dolžino iz seznama v svoji vrstici. Uporabi zanko `for`."
   ],
   "metadata": {
    "collapsed": false
   },
   "id": "b8ea08a32a2b479f"
  },
  {
   "cell_type": "code",
   "execution_count": 128,
   "outputs": [
    {
     "name": "stdout",
     "output_type": "stream",
     "text": [
      "29.4\n",
      "20.9\n",
      "30.9\n",
      "42.5\n",
      "92.2\n",
      "72.6\n",
      "90.8\n"
     ]
    }
   ],
   "source": [
    "rides = [29.4, 20.9, 30.9, 42.5, 92.2, 72.6, 90.8]\n",
    "\n",
    "for ride_length in rides:\n",
    "    print(ride_length)"
   ],
   "metadata": {
    "collapsed": false,
    "ExecuteTime": {
     "end_time": "2024-05-08T11:39:00.672725900Z",
     "start_time": "2024-05-08T11:39:00.399473200Z"
    }
   },
   "id": "8cbcc6ff42a2fde3"
  },
  {
   "cell_type": "markdown",
   "source": [
    "Brane želi, da izpišeš vse vožnje, daljše od 50 km. Uporabi zanko `for`."
   ],
   "metadata": {
    "collapsed": false
   },
   "id": "a27c4a8f5f031d40"
  },
  {
   "cell_type": "code",
   "execution_count": 129,
   "outputs": [
    {
     "name": "stdout",
     "output_type": "stream",
     "text": [
      "92.2\n",
      "72.6\n",
      "90.8\n"
     ]
    }
   ],
   "source": [
    "for ride_length in rides:\n",
    "    if ride_length > 50:\n",
    "        print(ride_length)"
   ],
   "metadata": {
    "collapsed": false,
    "ExecuteTime": {
     "end_time": "2024-05-08T11:39:00.695254200Z",
     "start_time": "2024-05-08T11:39:00.408255700Z"
    }
   },
   "id": "1926e5c7bd4fa520"
  },
  {
   "cell_type": "markdown",
   "source": [
    "Braneta zanima skupna dolžina vseh voženj. Izpiši skupno dolžino. Uporabi zanko `for`."
   ],
   "metadata": {
    "collapsed": false
   },
   "id": "a94d48c819a2476a"
  },
  {
   "cell_type": "code",
   "execution_count": 130,
   "outputs": [
    {
     "name": "stdout",
     "output_type": "stream",
     "text": [
      "379.3\n"
     ]
    }
   ],
   "source": [
    "sum = 0\n",
    "for ride_length in rides:\n",
    "    sum = sum + ride_length\n",
    "print(sum)"
   ],
   "metadata": {
    "collapsed": false,
    "ExecuteTime": {
     "end_time": "2024-05-08T11:39:00.698253100Z",
     "start_time": "2024-05-08T11:39:00.416037900Z"
    }
   },
   "id": "c32d0b52b2391b66"
  },
  {
   "cell_type": "markdown",
   "source": [
    "Branetove prevožene razdalje so zabeležene v kilometrih. Ker ga ne zanimajo podrobnosti do metra natančno, si želi, da se mu razdalje prikažejo zaokrožene na celo število kilometrov. Na primer, razdalja `29.4` naj bo prikazana kot `29`."
   ],
   "metadata": {
    "collapsed": false
   },
   "id": "751dfb9242d8837d"
  },
  {
   "cell_type": "code",
   "execution_count": 131,
   "outputs": [
    {
     "name": "stdout",
     "output_type": "stream",
     "text": [
      "29\n",
      "20\n",
      "30\n",
      "42\n",
      "92\n",
      "72\n",
      "90\n"
     ]
    }
   ],
   "source": [
    "for ride_length in rides:\n",
    "    print(int(ride_length))"
   ],
   "metadata": {
    "collapsed": false,
    "ExecuteTime": {
     "end_time": "2024-05-08T11:39:00.701492600Z",
     "start_time": "2024-05-08T11:39:00.423350700Z"
    }
   },
   "id": "f262f51178f1e042"
  },
  {
   "cell_type": "markdown",
   "source": [
    "Rešitve za datoteko [`7_while_loop.ipynb`](7_while_loop.ipynb)"
   ],
   "metadata": {
    "collapsed": false
   },
   "id": "8c786b34a16d2946"
  },
  {
   "cell_type": "markdown",
   "source": [
    "Brane želi izpisati vsa soda števila med ena in sto. Naredi to namesto njega tako, da uporabiš zanko `while`."
   ],
   "metadata": {
    "collapsed": false
   },
   "id": "613a4957ee76679c"
  },
  {
   "cell_type": "code",
   "execution_count": 132,
   "outputs": [
    {
     "name": "stdout",
     "output_type": "stream",
     "text": [
      "2\n",
      "4\n",
      "6\n",
      "8\n",
      "10\n",
      "12\n",
      "14\n",
      "16\n",
      "18\n",
      "20\n",
      "22\n",
      "24\n",
      "26\n",
      "28\n",
      "30\n",
      "32\n",
      "34\n",
      "36\n",
      "38\n",
      "40\n",
      "42\n",
      "44\n",
      "46\n",
      "48\n",
      "50\n",
      "52\n",
      "54\n",
      "56\n",
      "58\n",
      "60\n",
      "62\n",
      "64\n",
      "66\n",
      "68\n",
      "70\n",
      "72\n",
      "74\n",
      "76\n",
      "78\n",
      "80\n",
      "82\n",
      "84\n",
      "86\n",
      "88\n",
      "90\n",
      "92\n",
      "94\n",
      "96\n",
      "98\n",
      "100\n"
     ]
    }
   ],
   "source": [
    "for number in range(1, 101):\n",
    "    if number % 2 == 0:\n",
    "        print(number)"
   ],
   "metadata": {
    "collapsed": false,
    "ExecuteTime": {
     "end_time": "2024-05-08T11:39:00.704522200Z",
     "start_time": "2024-05-08T11:39:00.432102800Z"
    }
   },
   "id": "415b60a95788cf49"
  },
  {
   "cell_type": "markdown",
   "source": [
    "Rešitve za datoteko [`8_functions.ipynb`](8_functions.ipynb)"
   ],
   "metadata": {
    "collapsed": false
   },
   "id": "2ab719861b61b344"
  },
  {
   "cell_type": "markdown",
   "source": [
    "Brane ne želi uporabiti vgrajenega modula math. Rad bi zapisal svojo funkcijo, ki prejme dve števili in vrne večjo. Naredi to namesto njega."
   ],
   "metadata": {
    "collapsed": false
   },
   "id": "9cda1ef2356ad15e"
  },
  {
   "cell_type": "code",
   "execution_count": 133,
   "outputs": [],
   "source": [
    "def max(a, b):\n",
    "    if a > b:\n",
    "        return a\n",
    "    else:\n",
    "        return b"
   ],
   "metadata": {
    "collapsed": false,
    "ExecuteTime": {
     "end_time": "2024-05-08T11:39:00.721070900Z",
     "start_time": "2024-05-08T11:39:00.442310600Z"
    }
   },
   "id": "3ccb96b77207bf47"
  },
  {
   "cell_type": "markdown",
   "source": [
    "Brane želi, da pokličeš funkcijo s številoma 5002 in 200, rezultat funkcije shraniš v spremenljivko in izpišeš vrednost spremenljivke."
   ],
   "metadata": {
    "collapsed": false
   },
   "id": "bfee389f9e550c80"
  },
  {
   "cell_type": "code",
   "execution_count": 134,
   "outputs": [
    {
     "name": "stdout",
     "output_type": "stream",
     "text": [
      "5002\n"
     ]
    }
   ],
   "source": [
    "max_value = max(5002, 200)\n",
    "print(max_value)"
   ],
   "metadata": {
    "collapsed": false,
    "ExecuteTime": {
     "end_time": "2024-05-08T11:39:00.722100700Z",
     "start_time": "2024-05-08T11:39:00.448233900Z"
    }
   },
   "id": "2cc49143e836df33"
  },
  {
   "cell_type": "markdown",
   "source": [
    "Brane ima seznam števil. Napiši funkcijo, ki bo prejela seznam in vrnila največje število iz seznama."
   ],
   "metadata": {
    "collapsed": false
   },
   "id": "50deec7f57b09126"
  },
  {
   "cell_type": "code",
   "execution_count": 135,
   "outputs": [
    {
     "name": "stdout",
     "output_type": "stream",
     "text": [
      "5002\n"
     ]
    }
   ],
   "source": [
    "numbers = [2005, 500, 90, 0, 20, 19, 12, 5002, 90, 0, 102]\n",
    "\n",
    "def findMaxValueInList(list):\n",
    "    max_value = list[0]\n",
    "    for value in list:\n",
    "        if value > max_value:\n",
    "            max_value = value\n",
    "    return max_value\n",
    "\n",
    "print(findMaxValueInList(numbers))"
   ],
   "metadata": {
    "collapsed": false,
    "ExecuteTime": {
     "end_time": "2024-05-08T11:39:00.728101400Z",
     "start_time": "2024-05-08T11:39:00.455359400Z"
    }
   },
   "id": "31357966ecc7c51"
  }
 ],
 "metadata": {
  "kernelspec": {
   "display_name": "Python 3",
   "language": "python",
   "name": "python3"
  },
  "language_info": {
   "codemirror_mode": {
    "name": "ipython",
    "version": 2
   },
   "file_extension": ".py",
   "mimetype": "text/x-python",
   "name": "python",
   "nbconvert_exporter": "python",
   "pygments_lexer": "ipython2",
   "version": "2.7.6"
  }
 },
 "nbformat": 4,
 "nbformat_minor": 5
}
