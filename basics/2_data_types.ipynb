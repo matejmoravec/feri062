{
 "cells": [
  {
   "cell_type": "markdown",
   "source": [
    "# Podatkovni tipi"
   ],
   "metadata": {
    "collapsed": false
   },
   "id": "5392aabbcc06eb47"
  },
  {
   "cell_type": "markdown",
   "source": [
    "Spremenljivke lahko hranijo podatke različnih tipov ([seznam podatkovnih tipov](https://www.w3schools.com/python/python_datatypes.asp)). Ko v spremenljivko shranimo npr. celo število, rečemo, da je spremenljivka tipa `int`."
   ],
   "metadata": {
    "collapsed": false
   },
   "id": "7f6b72791f428405"
  },
  {
   "cell_type": "markdown",
   "source": [
    "## Števila\n",
    "\n",
    "V programskem jeziku Python obstajajo trije številski podatkovni tipi:\n",
    "\n",
    "- `int` - Int ali integer je celo pozitivno ali negativno število, brez decimalk.\n",
    "- `float` - Float ali \"število s plavajočo vejico\" je pozitivno ali negativno število, ki vsebuje eno ali več decimalk.\n",
    "- `complex` - Kompleksna števila so zapisana z \"j\", ki predstavlja imaginarni del.\n",
    "\n",
    "Podatkovni tip spremenljivke se določi v trenutku, ko se ji dodeli vrednost."
   ],
   "metadata": {
    "collapsed": false
   },
   "id": "2315b863124d45e9"
  },
  {
   "cell_type": "code",
   "execution_count": 89,
   "outputs": [],
   "source": [
    "a = 1       # podatkovni tip `int` - celo število\n",
    "b = 5.2     # podatkovni tip `float` - decimalno število"
   ],
   "metadata": {
    "collapsed": false,
    "ExecuteTime": {
     "end_time": "2024-04-09T11:11:38.683827300Z",
     "start_time": "2024-04-09T11:11:38.469333900Z"
    }
   },
   "id": "2f54b8e02a3a5950"
  },
  {
   "cell_type": "markdown",
   "source": [
    "Podatkovni tip spremenljivke lahko preverimo s pomočjo funkcije `type()`."
   ],
   "metadata": {
    "collapsed": false
   },
   "id": "3157cfa8e45c4869"
  },
  {
   "cell_type": "code",
   "execution_count": 90,
   "outputs": [
    {
     "name": "stdout",
     "output_type": "stream",
     "text": [
      "<class 'int'>\n",
      "<class 'float'>\n"
     ]
    }
   ],
   "source": [
    "print(type(a))  # funkcija `print` se v programskem jeziku Python uporablja za izpis v konzolo\n",
    "print(type(b))"
   ],
   "metadata": {
    "collapsed": false,
    "ExecuteTime": {
     "end_time": "2024-04-09T11:11:38.697826500Z",
     "start_time": "2024-04-09T11:11:38.476339200Z"
    }
   },
   "id": "d2d19e0735d97d9e"
  },
  {
   "cell_type": "markdown",
   "source": [
    "### Naključna števila\n",
    "\n",
    "Programski jezik Python ima vgrajen modul `random`, ki se uporablja za ustvarjanje naključnih števil. Naključna števila lahko generiramo na različne načine ([seznam metod](https://www.w3schools.com/python/module_random.asp))."
   ],
   "metadata": {
    "collapsed": false
   },
   "id": "efe45d656304a451"
  },
  {
   "cell_type": "code",
   "execution_count": 91,
   "outputs": [
    {
     "name": "stdout",
     "output_type": "stream",
     "text": [
      "9\n",
      "0.8056429331440562\n"
     ]
    }
   ],
   "source": [
    "import random\n",
    "\n",
    "print(random.randint(1, 10))    # metoda vrne celo število med 1 in 10 (vključno z 1 in 10)\n",
    "print(random.random())          # metoda vrne naključno decimalno število med 0.0 in 1.0"
   ],
   "metadata": {
    "collapsed": false,
    "ExecuteTime": {
     "end_time": "2024-04-09T11:11:38.819857Z",
     "start_time": "2024-04-09T11:11:38.484697Z"
    }
   },
   "id": "62a6b781c7a7638e"
  },
  {
   "cell_type": "markdown",
   "source": [
    "## Nizi\n",
    "\n",
    "V programskem jeziku Python je niz lahko zapisan z enojnimi ali dvojnimi narekovaji. Niz lahko shranimo v spremenljivko ali ga le izpišemo z uporabo funkcije `print()`.\n"
   ],
   "metadata": {
    "collapsed": false
   },
   "id": "9faa5163ca6b22d8"
  },
  {
   "cell_type": "code",
   "execution_count": 92,
   "outputs": [
    {
     "name": "stdout",
     "output_type": "stream",
     "text": [
      "Hello\n",
      "Hello\n"
     ]
    }
   ],
   "source": [
    "print('Hello')\n",
    "\n",
    "my_string = \"Hello\"\n",
    "print(my_string)"
   ],
   "metadata": {
    "collapsed": false,
    "ExecuteTime": {
     "end_time": "2024-04-09T11:11:38.821872300Z",
     "start_time": "2024-04-09T11:11:38.493811700Z"
    }
   },
   "id": "b4207b185ad5306e"
  },
  {
   "cell_type": "markdown",
   "source": [
    "Niz z večimi vrsticami lahko v spremenljivko shranimo tako, da uporabimo trojne narekovaje."
   ],
   "metadata": {
    "collapsed": false
   },
   "id": "7e7a4d3c7981658"
  },
  {
   "cell_type": "code",
   "execution_count": 93,
   "outputs": [
    {
     "name": "stdout",
     "output_type": "stream",
     "text": [
      "Lorem ipsum dolor sit amet,\n",
      "consectetur adipiscing elit, sed do eiusmod tempor\n",
      "incididunt ut labore et dolore magna aliqua.\n",
      "Gravida quis blandit turpis cursus in.\n"
     ]
    }
   ],
   "source": [
    "mutliline_string = \"\"\"Lorem ipsum dolor sit amet,\n",
    "consectetur adipiscing elit, sed do eiusmod tempor\n",
    "incididunt ut labore et dolore magna aliqua.\n",
    "Gravida quis blandit turpis cursus in.\"\"\"\n",
    "\n",
    "print(mutliline_string)"
   ],
   "metadata": {
    "collapsed": false,
    "ExecuteTime": {
     "end_time": "2024-04-09T11:11:38.843856800Z",
     "start_time": "2024-04-09T11:11:38.501063200Z"
    }
   },
   "id": "90149b8aa7ac7e3c"
  },
  {
   "cell_type": "markdown",
   "source": [
    "Podobno, kot v večini drugih programskih jezikov, so nizi v programskem jeziku Python shranjeni kot polje. Programski jezik Python nima ločenega podatkovnega tipa za posamezen znak (`char`), ampak je posamezni znak shranjen kot niz (`string`) z dolžino 1. Za dostop do posameznega znaka znotraj niza, se uporabljajo oglati oklepaji."
   ],
   "metadata": {
    "collapsed": false
   },
   "id": "baf062b1f66f808c"
  },
  {
   "cell_type": "code",
   "execution_count": 94,
   "outputs": [
    {
     "name": "stdout",
     "output_type": "stream",
     "text": [
      "e\n"
     ]
    }
   ],
   "source": [
    "text = \"Hello, World!\"\n",
    "print(text[1])  # izpis znaka na indeksu/poziciji 1 (prvi znak polja ima v programskem jeziku Python vedno indeks/pozicijo 0)"
   ],
   "metadata": {
    "collapsed": false,
    "ExecuteTime": {
     "end_time": "2024-04-09T11:11:38.846858500Z",
     "start_time": "2024-04-09T11:11:38.508444900Z"
    }
   },
   "id": "bdeb2b973131ad7a"
  },
  {
   "cell_type": "markdown",
   "source": [
    "Niz je polje znakov, zato lahko npr. uporabimo zanko `for`, da se pomikamo po posameznih znakih znotraj niza."
   ],
   "metadata": {
    "collapsed": false
   },
   "id": "58e69ba53e727ce5"
  },
  {
   "cell_type": "code",
   "execution_count": 95,
   "outputs": [
    {
     "name": "stdout",
     "output_type": "stream",
     "text": [
      "e\n",
      "v\n",
      "k\n",
      "a\n",
      "l\n",
      "i\n",
      "p\n",
      "t\n",
      "u\n",
      "s\n"
     ]
    }
   ],
   "source": [
    "for i in \"evkaliptus\":\n",
    "    print(i)"
   ],
   "metadata": {
    "collapsed": false,
    "ExecuteTime": {
     "end_time": "2024-04-09T11:11:38.861856900Z",
     "start_time": "2024-04-09T11:11:38.515235Z"
    }
   },
   "id": "52b278d8036573af"
  },
  {
   "cell_type": "markdown",
   "source": [
    "Če nas zanima dolžina niza, lahko uporabimo funkcijo `len()`."
   ],
   "metadata": {
    "collapsed": false
   },
   "id": "2241d35484cb2172"
  },
  {
   "cell_type": "code",
   "execution_count": 96,
   "outputs": [
    {
     "name": "stdout",
     "output_type": "stream",
     "text": [
      "4\n"
     ]
    }
   ],
   "source": [
    "a = \"Bobi\"\n",
    "print(len(a))"
   ],
   "metadata": {
    "collapsed": false,
    "ExecuteTime": {
     "end_time": "2024-04-09T11:11:38.864857Z",
     "start_time": "2024-04-09T11:11:38.521945900Z"
    }
   },
   "id": "3753e20559f16c46"
  },
  {
   "cell_type": "markdown",
   "source": [
    "Z uporabo funkcije `in` lahko preverimo ali se v nizu nahaja določen znak ali fraza."
   ],
   "metadata": {
    "collapsed": false
   },
   "id": "4b18ad4f1c1de1f6"
  },
  {
   "cell_type": "code",
   "execution_count": 97,
   "outputs": [
    {
     "name": "stdout",
     "output_type": "stream",
     "text": [
      "True\n"
     ]
    }
   ],
   "source": [
    "txt = \"Banane so lahko rumene barve\"\n",
    "print(\"barve\" in txt)"
   ],
   "metadata": {
    "collapsed": false,
    "ExecuteTime": {
     "end_time": "2024-04-09T11:11:38.877856300Z",
     "start_time": "2024-04-09T11:11:38.529472400Z"
    }
   },
   "id": "1ee69877a216c58c"
  },
  {
   "cell_type": "markdown",
   "source": [
    "Namesto, da izpišemo logično vrednost `True`/`False`, lahko rezultat funkcije `in` uporabimo pri pogojnem stavku `if`."
   ],
   "metadata": {
    "collapsed": false
   },
   "id": "6d1d480169ef8a84"
  },
  {
   "cell_type": "code",
   "execution_count": 98,
   "outputs": [
    {
     "name": "stdout",
     "output_type": "stream",
     "text": [
      "Beseda 'za' se nahaja v nizu 'txt'.\n"
     ]
    }
   ],
   "source": [
    "txt = \"Fakulteta za elektrotehniko, računalništvo in informatiko\"\n",
    "\n",
    "if \"za\" in txt:\n",
    "    print(\"Beseda 'za' se nahaja v nizu 'txt'.\")"
   ],
   "metadata": {
    "collapsed": false,
    "ExecuteTime": {
     "end_time": "2024-04-09T11:11:38.880858400Z",
     "start_time": "2024-04-09T11:11:38.536914400Z"
    }
   },
   "id": "2a51ce70f42f591d"
  },
  {
   "cell_type": "markdown",
   "source": [
    "Preverimo lahko tudi ali se določen podniz ne nahaja znotraj niza."
   ],
   "metadata": {
    "collapsed": false
   },
   "id": "c669627f3badf690"
  },
  {
   "cell_type": "code",
   "execution_count": 99,
   "outputs": [
    {
     "name": "stdout",
     "output_type": "stream",
     "text": [
      "Beseda 'čar' se ne nahaja v nizu 'txt'.\n"
     ]
    }
   ],
   "source": [
    "txt = \"Fakulteta za elektrotehniko, računalništvo in informatiko\"\n",
    "\n",
    "if \"čar\" not in txt:\n",
    "    print(\"Beseda 'čar' se ne nahaja v nizu 'txt'.\")"
   ],
   "metadata": {
    "collapsed": false,
    "ExecuteTime": {
     "end_time": "2024-04-09T11:11:38.883857400Z",
     "start_time": "2024-04-09T11:11:38.543812200Z"
    }
   },
   "id": "9d17b6400434f3c3"
  },
  {
   "cell_type": "markdown",
   "source": [
    "Iz celotnega niza lahko vzamemo le del niza."
   ],
   "metadata": {
    "collapsed": false
   },
   "id": "1419786363b474c1"
  },
  {
   "cell_type": "code",
   "execution_count": 100,
   "outputs": [
    {
     "name": "stdout",
     "output_type": "stream",
     "text": [
      "la ba\n"
     ]
    }
   ],
   "source": [
    "txt = \"bela barva\"\n",
    "\n",
    "print(txt[2:7]) # vzamemo vse znake od pozicije 2 do 7 (brez pozicije 7)"
   ],
   "metadata": {
    "collapsed": false,
    "ExecuteTime": {
     "end_time": "2024-04-09T11:11:38.904856200Z",
     "start_time": "2024-04-09T11:11:38.551332400Z"
    }
   },
   "id": "bed034bdd8afc452"
  },
  {
   "cell_type": "code",
   "execution_count": 101,
   "outputs": [
    {
     "name": "stdout",
     "output_type": "stream",
     "text": [
      "0: b\n",
      "1: e\n",
      "2: l\n",
      "3: a\n",
      "4:  \n",
      "5: b\n",
      "6: a\n",
      "7: r\n",
      "8: v\n",
      "9: a\n"
     ]
    }
   ],
   "source": [
    "# prikaz pozicij in znakov hkrati\n",
    "for index, character in enumerate(txt):\n",
    "    print(f\"{index}: {character}\")"
   ],
   "metadata": {
    "collapsed": false,
    "ExecuteTime": {
     "end_time": "2024-04-09T11:11:38.907856800Z",
     "start_time": "2024-04-09T11:11:38.556255300Z"
    }
   },
   "id": "184fc6260999a068"
  },
  {
   "cell_type": "code",
   "execution_count": 102,
   "outputs": [
    {
     "name": "stdout",
     "output_type": "stream",
     "text": [
      "bel\n"
     ]
    }
   ],
   "source": [
    "print(txt[:3])  # izpis začetnih 3 znakov (brez tistega na poziciji 3)"
   ],
   "metadata": {
    "collapsed": false,
    "ExecuteTime": {
     "end_time": "2024-04-09T11:11:38.919856700Z",
     "start_time": "2024-04-09T11:11:38.561325600Z"
    }
   },
   "id": "a77e24ecaa602c2e"
  },
  {
   "cell_type": "code",
   "execution_count": 103,
   "outputs": [
    {
     "name": "stdout",
     "output_type": "stream",
     "text": [
      "barva\n"
     ]
    }
   ],
   "source": [
    "print(txt[5:])  # izpis znakov od pozicije 5 do konca"
   ],
   "metadata": {
    "collapsed": false,
    "ExecuteTime": {
     "end_time": "2024-04-09T11:11:38.922857Z",
     "start_time": "2024-04-09T11:11:38.566643300Z"
    }
   },
   "id": "9032d7e5fcf7dbd9"
  },
  {
   "cell_type": "markdown",
   "source": [
    "### Vgrajene metode za delo z nizi\n",
    "\n",
    "Programski jezik Python ima nabor vgrajenih metod, ki se jih lahko uporabi pri delu z nizi ([seznam metod](https://www.w3schools.com/python/python_ref_string.asp))."
   ],
   "metadata": {
    "collapsed": false
   },
   "id": "4bc3bf84618b5ab2"
  },
  {
   "cell_type": "code",
   "execution_count": 104,
   "outputs": [
    {
     "name": "stdout",
     "output_type": "stream",
     "text": [
      "PROGRAMSKI JEZIK PYTHON\n",
      "programski jezik python\n",
      "Prokilski jezik Python\n",
      "['Programski', 'jezik', 'Python']\n"
     ]
    }
   ],
   "source": [
    "txt = \"Programski jezik Python\"\n",
    "\n",
    "print(txt.upper())                      # izpis teksta z velikimi črkami\n",
    "print(txt.lower())                      # izpis teksta z malimi črkami\n",
    "print(txt.replace(\"gramski\", \"kilski\")) # zamenjava podniza \"gramski\" z nizom \"kilski\"\n",
    "print(txt.split(\" \"))                   # metoda `split()` vrne seznam z vrednostmi, ki se v nizu nahajajo med sepratorjem (presledek)"
   ],
   "metadata": {
    "collapsed": false,
    "ExecuteTime": {
     "end_time": "2024-04-09T11:11:38.935856100Z",
     "start_time": "2024-04-09T11:11:38.572245600Z"
    }
   },
   "id": "f7d7265b850f8486"
  },
  {
   "cell_type": "markdown",
   "source": [
    "Nize se lahko tudi združuje z uporabo operatorja `+`."
   ],
   "metadata": {
    "collapsed": false
   },
   "id": "99874a29eea4e994"
  },
  {
   "cell_type": "code",
   "execution_count": 105,
   "outputs": [
    {
     "name": "stdout",
     "output_type": "stream",
     "text": [
      "Uvod v programiranje\n"
     ]
    }
   ],
   "source": [
    "a = \"Uvod\"\n",
    "b = \"v\"\n",
    "c = \"programiranje\"\n",
    "\n",
    "result = a + \" \" + b + \" \" + c\n",
    "print(result)"
   ],
   "metadata": {
    "collapsed": false,
    "ExecuteTime": {
     "end_time": "2024-04-09T11:11:38.944857200Z",
     "start_time": "2024-04-09T11:11:38.577572800Z"
    }
   },
   "id": "8666f8a11b6ed49b"
  },
  {
   "cell_type": "markdown",
   "source": [
    "Za uporabo nedovoljenih znakov v nizu, se uporablja ubežni znak (angl. escape character). Ubežni znak je poševnica nazaj `\\`, ki ji sledi nedovoljeni znak."
   ],
   "metadata": {
    "collapsed": false
   },
   "id": "a6021598345974e5"
  },
  {
   "cell_type": "code",
   "execution_count": 106,
   "outputs": [
    {
     "name": "stdout",
     "output_type": "stream",
     "text": [
      "We are the so-called \"Vikings\" from the north\n"
     ]
    }
   ],
   "source": [
    "txt = \"We are the so-called \\\"Vikings\\\" from the north\"\n",
    "\n",
    "print(txt)"
   ],
   "metadata": {
    "collapsed": false,
    "ExecuteTime": {
     "end_time": "2024-04-09T11:11:38.963886100Z",
     "start_time": "2024-04-09T11:11:38.583893400Z"
    }
   },
   "id": "c467a76307e86f4d"
  },
  {
   "cell_type": "markdown",
   "source": [
    "## Logične vrednosti\n",
    "\n",
    "Logična vrednost (boolean) ima lahko vrednost `True` ali `False`. Pri programiranju nas običajno zanima ali izraz vrača vrednost `True` ali `False`. Pri primerjanju dveh vrednosti se izraz ovrednoti in vrne logično vrednost."
   ],
   "metadata": {
    "collapsed": false
   },
   "id": "74f75ac5c9ff34ef"
  },
  {
   "cell_type": "code",
   "execution_count": 107,
   "outputs": [
    {
     "name": "stdout",
     "output_type": "stream",
     "text": [
      "True\n",
      "True\n",
      "False\n"
     ]
    }
   ],
   "source": [
    "print(10 > 9)\n",
    "print(9 == 9)\n",
    "print(10 < 9)"
   ],
   "metadata": {
    "collapsed": false,
    "ExecuteTime": {
     "end_time": "2024-04-09T11:11:38.963886100Z",
     "start_time": "2024-04-09T11:11:38.589488700Z"
    }
   },
   "id": "db7fd6a9fa5e5419"
  },
  {
   "cell_type": "code",
   "execution_count": 108,
   "outputs": [
    {
     "name": "stdout",
     "output_type": "stream",
     "text": [
      "b is not greater than a\n"
     ]
    }
   ],
   "source": [
    "a = 200\n",
    "b = 33\n",
    "\n",
    "if b > a:\n",
    "    print(\"b is greater than a\")\n",
    "else:\n",
    "    print(\"b is not greater than a\")"
   ],
   "metadata": {
    "collapsed": false,
    "ExecuteTime": {
     "end_time": "2024-04-09T11:11:38.963886100Z",
     "start_time": "2024-04-09T11:11:38.594060600Z"
    }
   },
   "id": "da995b2e584795fe"
  },
  {
   "cell_type": "markdown",
   "source": [
    "## Pretvorba med podatkovnimi tipi\n",
    "\n",
    "Podatkovni tip spremenljivke je mogoče pretvoriti iz enega v drugega z uporabo funkcij `int()`, `float()`, `str()`, .... Izraz za pretvorbo iz enega podatkovnega tipa spremenljivke v drugega, je v angleščini \"casting\"."
   ],
   "metadata": {
    "collapsed": false
   },
   "id": "94176605d9c1afbd"
  },
  {
   "cell_type": "code",
   "execution_count": 109,
   "outputs": [
    {
     "name": "stdout",
     "output_type": "stream",
     "text": [
      "===== Začetno stanje spremenljivk =====\n",
      "spremenljivka a z vrednostjo 1 je podatkovnega tipa <class 'int'>\n",
      "spremenljivka b z vrednostjo 5.2 je podatkovnega tipa <class 'float'>\n",
      "\n",
      "===== Stanje spremenljivk po pretvorbi =====\n",
      "spremenljivka a z vrednostjo 1.0 je podatkovnega tipa <class 'float'>\n",
      "spremenljivka b z vrednostjo 5 je podatkovnega tipa <class 'int'>\n"
     ]
    }
   ],
   "source": [
    "a = 1   # int\n",
    "b = 5.2 # float\n",
    "\n",
    "print(\"===== Začetno stanje spremenljivk =====\")\n",
    "print(f\"spremenljivka a z vrednostjo {a} je podatkovnega tipa {type(a)}\")\n",
    "print(f\"spremenljivka b z vrednostjo {b} je podatkovnega tipa {type(b)}\")\n",
    "\n",
    "# pretvorba iz `int` v `float`\n",
    "a = float(a)\n",
    "\n",
    "# pretvorba iz `float` v `int`\n",
    "b = int(b)\n",
    "\n",
    "print(\"\\n===== Stanje spremenljivk po pretvorbi =====\")\n",
    "print(f\"spremenljivka a z vrednostjo {a} je podatkovnega tipa {type(a)}\")\n",
    "print(f\"spremenljivka b z vrednostjo {b} je podatkovnega tipa {type(b)}\")"
   ],
   "metadata": {
    "collapsed": false,
    "ExecuteTime": {
     "end_time": "2024-04-09T11:11:38.968856800Z",
     "start_time": "2024-04-09T11:11:38.601060700Z"
    }
   },
   "id": "a0587dd728fdbd4b"
  },
  {
   "cell_type": "code",
   "execution_count": 110,
   "outputs": [
    {
     "name": "stdout",
     "output_type": "stream",
     "text": [
      "3\t type of <class 'str'>\n",
      "3\t type of <class 'int'>\n",
      "3.0\t type of <class 'float'>\n"
     ]
    }
   ],
   "source": [
    "str_value = str(3)      # spremenljivka 'str_value' hrani niz '3'\n",
    "int_value = int(3)      # spremenljivka 'int_value' hrani celo število 3\n",
    "float_value = float(3)  # spremenljivka 'float_value' hrani decimalno število 3.0\n",
    "\n",
    "print(f\"{str_value}\\t type of {type(str_value)}\")\n",
    "print(f\"{int_value}\\t type of {type(int_value)}\")\n",
    "print(f\"{float_value}\\t type of {type(float_value)}\")"
   ],
   "metadata": {
    "collapsed": false,
    "ExecuteTime": {
     "end_time": "2024-04-09T11:11:38.971851600Z",
     "start_time": "2024-04-09T11:11:38.608445Z"
    }
   },
   "id": "850499b275e4f1a2"
  },
  {
   "cell_type": "markdown",
   "source": [
    "# Brane se preizkusi"
   ],
   "metadata": {
    "collapsed": false
   },
   "id": "c377f210d1855462"
  },
  {
   "cell_type": "markdown",
   "source": [
    "Brane ima pet metrskega pitona. Pomagaj Branetu v spremenljivko `a` shraniti celo število `5`."
   ],
   "metadata": {
    "collapsed": false
   },
   "id": "93c04852c8d9c212"
  },
  {
   "cell_type": "code",
   "execution_count": 110,
   "outputs": [],
   "source": [],
   "metadata": {
    "collapsed": false,
    "ExecuteTime": {
     "end_time": "2024-04-09T11:11:38.971851600Z",
     "start_time": "2024-04-09T11:11:38.615146300Z"
    }
   },
   "id": "712a7a19beb078b8"
  },
  {
   "cell_type": "markdown",
   "source": [
    "Sedaj želi dolžino svojega pitona pretvoriti v decimalno število in vrednost shraniti v spremenljivko `b`."
   ],
   "metadata": {
    "collapsed": false
   },
   "id": "48a1677a004e6d38"
  },
  {
   "cell_type": "code",
   "execution_count": 110,
   "outputs": [],
   "source": [],
   "metadata": {
    "collapsed": false,
    "ExecuteTime": {
     "end_time": "2024-04-09T11:11:38.971851600Z",
     "start_time": "2024-04-09T11:11:38.621696600Z"
    }
   },
   "id": "9dadc04f9c14aa9f"
  },
  {
   "cell_type": "markdown",
   "source": [
    "Maksimalna dolžina pitona je lahko nekje do 10 metrov. Izpiši naključno celo število med `1` in `10` (vključno z `1` in `10`)."
   ],
   "metadata": {
    "collapsed": false
   },
   "id": "fb938b7d4f5c680b"
  },
  {
   "cell_type": "code",
   "execution_count": 110,
   "outputs": [],
   "source": [],
   "metadata": {
    "collapsed": false,
    "ExecuteTime": {
     "end_time": "2024-04-09T11:11:38.984860200Z",
     "start_time": "2024-04-09T11:11:38.630585900Z"
    }
   },
   "id": "a990e2d15e07e6ac"
  },
  {
   "cell_type": "markdown",
   "source": [
    "Branetovo ime je v resnici Branko. Brane želi svoje resnično ime shraniti v spremenljivko. Pomagaj mu."
   ],
   "metadata": {
    "collapsed": false
   },
   "id": "49f4cfffc4811f1b"
  },
  {
   "cell_type": "code",
   "execution_count": 110,
   "outputs": [],
   "source": [],
   "metadata": {
    "collapsed": false,
    "ExecuteTime": {
     "end_time": "2024-04-09T11:17:57.567445400Z",
     "start_time": "2024-04-09T11:17:57.538758300Z"
    }
   },
   "id": "12030e7a1ff2602a"
  },
  {
   "cell_type": "markdown",
   "source": [
    "Izpiši le prvo črko Branetovega resničnega imena tako, da uporabiš spremenljivko iz predhodnega primera."
   ],
   "metadata": {
    "collapsed": false
   },
   "id": "695c72c43c3fc8bf"
  },
  {
   "cell_type": "code",
   "execution_count": 110,
   "outputs": [],
   "source": [],
   "metadata": {
    "collapsed": false,
    "ExecuteTime": {
     "end_time": "2024-04-09T11:19:42.113482400Z",
     "start_time": "2024-04-09T11:19:42.084257200Z"
    }
   },
   "id": "7a074c25cfe86375"
  },
  {
   "cell_type": "markdown",
   "source": [
    "Pomagaj Branetu dopolniti spodnji primer kode tako, da se v primeru, da je vrednost spremenljivke `g` večja od spremenljivke `k`, izpiše Branetov vzdevek, v nasprotnem primeru se mora izpisati njegovo pravo ime."
   ],
   "metadata": {
    "collapsed": false
   },
   "id": "b675d2977759a02f"
  },
  {
   "cell_type": "code",
   "execution_count": 112,
   "outputs": [],
   "source": [
    "g = 90\n",
    "k = 102\n",
    "\n"
   ],
   "metadata": {
    "collapsed": false,
    "ExecuteTime": {
     "end_time": "2024-04-09T11:22:53.739376400Z",
     "start_time": "2024-04-09T11:22:53.718831Z"
    }
   },
   "id": "9436ba7a70db0cc2"
  }
 ],
 "metadata": {
  "kernelspec": {
   "display_name": "Python 3",
   "language": "python",
   "name": "python3"
  },
  "language_info": {
   "codemirror_mode": {
    "name": "ipython",
    "version": 2
   },
   "file_extension": ".py",
   "mimetype": "text/x-python",
   "name": "python",
   "nbconvert_exporter": "python",
   "pygments_lexer": "ipython2",
   "version": "2.7.6"
  }
 },
 "nbformat": 4,
 "nbformat_minor": 5
}
