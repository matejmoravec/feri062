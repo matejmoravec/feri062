{
 "cells": [
  {
   "cell_type": "markdown",
   "source": [
    "# Spremenljivke"
   ],
   "metadata": {
    "collapsed": false
   },
   "id": "8d046679df120f3b"
  },
  {
   "cell_type": "markdown",
   "source": [
    "## Ustvarjanje spremenljivk\n",
    "\n",
    "Spremenljivke so namenjene shranjevanju podatkov. Podatki so lahko različnih tipov (celo število, decimalno število, niz ...)."
   ],
   "metadata": {
    "collapsed": false
   },
   "id": "de4a67d7dd5ebfe7"
  },
  {
   "cell_type": "code",
   "execution_count": 1,
   "outputs": [],
   "source": [
    "year = 2024         # spremenljivka z imenom `year`, ki hrani celo število `2024`\n",
    "title = 'My table'  # spremenljivka z imenom `name`, ki hrani niz `Tone`"
   ],
   "metadata": {
    "collapsed": false,
    "ExecuteTime": {
     "end_time": "2024-04-09T07:15:05.644933200Z",
     "start_time": "2024-04-09T07:15:05.624762Z"
    }
   },
   "id": "d885665c5a3213c1"
  },
  {
   "cell_type": "markdown",
   "source": [
    "Spremenljivkam v programskem jeziku Python ni treba specificirati kateri podatkovni tip naj hranijo. Podatkovni tip, ki ga spremenljivke hranijo, se lahko v programskem jeziku Python tekom izvajanja celo spremeni."
   ],
   "metadata": {
    "collapsed": false
   },
   "id": "bd1172cda51a0820"
  },
  {
   "cell_type": "code",
   "execution_count": 2,
   "outputs": [],
   "source": [
    "a = 10      # spremenljivka `x` je tipa `int`, ker hrani celo število\n",
    "a = 'Bojan' # spremenljivka `x` je sedaj tipa `str`, ker hrani niz/tekst\n",
    "a = \"Bojan\" # zapisano isto, kot v predhodni vrstici, le da je niz/tekst zapisan v dvojnih narekovajih"
   ],
   "metadata": {
    "collapsed": false,
    "ExecuteTime": {
     "end_time": "2024-04-09T07:15:05.644933200Z",
     "start_time": "2024-04-09T07:15:05.632209400Z"
    }
   },
   "id": "4410095aaf05c1c3"
  },
  {
   "cell_type": "markdown",
   "source": [
    "## Poimenovanje spremenljivk\n",
    "\n",
    "Spremenljivke imajo lahko krajša imena (npr. `x` in `y`) ali bolj opisno ime (npr. `age`, `sum`). Najbolj važno je, da ime spremenljivke čim bolj opiše vrednost, ki jo hrani. Tako, da je že iz imena spremenljivke razvidno kaj hrani. Pravila pri poimenovanju spremenljivk:\n",
    "\n",
    "- Ime spremenljivke se mora začeti z malo začetnico ali podčrtajem.\n",
    "- Ime spremenljivke se ne more začeti s številko.\n",
    "- Ime spremenljivke lahko vsebuje le alfa-nmumerične znake in podčrtaje (A-z, 0-9, in _).\n",
    "- Imena spremenljivk so občutljiva na male in velike črke (`name`, `Name` in `NAME` so tri različne spremenljivke).\n",
    "- Ime spremenljivke ne more biti katerakoli ključna beseda v programskem jeziku Python ([seznam ključnih besed](https://www.w3schools.com/python/python_ref_keywords.asp))."
   ],
   "metadata": {
    "collapsed": false
   },
   "id": "b4282a366a3a2589"
  },
  {
   "cell_type": "code",
   "execution_count": 3,
   "outputs": [],
   "source": [
    "# primeri veljavnih imen spremenljivk\n",
    "name = \"Matej\"\n",
    "my_name = \"Matej\"\n",
    "MY_NAME = \"Matej\"\n",
    "\n",
    "# primeri neveljavnih imen spremenljivk\n",
    "#  2name = \"Matej\"\n",
    "#  my-name = \"Matej\"\n",
    "#  my name = \"Matej\""
   ],
   "metadata": {
    "collapsed": false,
    "ExecuteTime": {
     "end_time": "2024-04-09T07:15:05.646931100Z",
     "start_time": "2024-04-09T07:15:05.637881800Z"
    }
   },
   "id": "ca739ec346d13b57"
  },
  {
   "cell_type": "markdown",
   "source": [
    "## Komentarji\n",
    "\n",
    "Komentarji se v kodi uporabljajo z namenom razložiti kodo in jo v določenih primerih narediti bolj berljivo oz. razumljivo. Enovrstični komentar se v programskem jeziku Python začne s simbolom `#` in ga prevajalnik ne bo prevedel. Programski jezik Python nima določene sintakse za zapis večvrstičnega komentarja. V ta namen je mogoče več zaporednih vrstic zapisati kot enovrstični komentar s simbolom `#`. Glede na to, da programski jezik Python ignorira nize, ki niso dodeljeni spremenljivkam, je mogoče večvrstični komentar zapisati kot večvrstični niz (s trojnimi narekovaji)."
   ],
   "metadata": {
    "collapsed": false
   },
   "id": "899f1068c8530b1f"
  },
  {
   "cell_type": "code",
   "execution_count": 4,
   "outputs": [],
   "source": [
    "operating_system = \"Android\"    # operacijski sistem telefona\n",
    "\n",
    "# kapaciteta učilnice\n",
    "# G-219 na Fakulteti\n",
    "# za elektrotehniko,\n",
    "# računalništvo in\n",
    "# informatiko\n",
    "capacity = 24\n",
    "\n",
    "\"\"\"\n",
    "spremenljivka `week_number` hrani\n",
    "število tednov v letu 2024 \n",
    "\"\"\"\n",
    "week_number = 52"
   ],
   "metadata": {
    "collapsed": false,
    "ExecuteTime": {
     "end_time": "2024-04-09T07:15:05.651955600Z",
     "start_time": "2024-04-09T07:15:05.642408100Z"
    }
   },
   "id": "7077f0efa4be28ba"
  },
  {
   "cell_type": "markdown",
   "source": [
    "# Brane se preizkusi"
   ],
   "metadata": {
    "collapsed": false
   },
   "id": "ce9db7a2c9439d7d"
  },
  {
   "cell_type": "markdown",
   "source": [
    "Brane želi v spremenljivko shraniti ime prijatelja Zvoneta. Pomagaj Branetu poimenovati spremenljivko in v njo shraniti prijateljevo ime."
   ],
   "metadata": {
    "collapsed": false
   },
   "id": "2a18676fffe89131"
  },
  {
   "cell_type": "code",
   "execution_count": 4,
   "outputs": [],
   "source": [],
   "metadata": {
    "collapsed": false,
    "ExecuteTime": {
     "end_time": "2024-04-09T07:15:05.672334600Z",
     "start_time": "2024-04-09T07:15:05.648444500Z"
    }
   },
   "id": "cf08150cd2443556"
  },
  {
   "cell_type": "markdown",
   "source": [
    "Zvone ni edini Branetov prijatelj. Branetov najboljši prijatelj je Jure in letos slavi svoj 19. rojstni dan. Shrani Juretovo starost v novo spremenljivko. "
   ],
   "metadata": {
    "collapsed": false
   },
   "id": "31b440f3fec60846"
  },
  {
   "cell_type": "code",
   "execution_count": 4,
   "outputs": [],
   "source": [],
   "metadata": {
    "collapsed": false,
    "ExecuteTime": {
     "end_time": "2024-04-09T07:15:05.674335200Z",
     "start_time": "2024-04-09T07:15:05.652822200Z"
    }
   },
   "id": "f835c4184afac421"
  }
 ],
 "metadata": {
  "kernelspec": {
   "display_name": "Python 3",
   "language": "python",
   "name": "python3"
  },
  "language_info": {
   "codemirror_mode": {
    "name": "ipython",
    "version": 2
   },
   "file_extension": ".py",
   "mimetype": "text/x-python",
   "name": "python",
   "nbconvert_exporter": "python",
   "pygments_lexer": "ipython2",
   "version": "2.7.6"
  }
 },
 "nbformat": 4,
 "nbformat_minor": 5
}
