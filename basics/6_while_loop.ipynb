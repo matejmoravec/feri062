{
 "cells": [
  {
   "cell_type": "markdown",
   "source": [
    "# Zanka `while`"
   ],
   "metadata": {
    "collapsed": false
   },
   "id": "5b9238afe730093"
  },
  {
   "cell_type": "markdown",
   "source": [
    "Zanka `while` izvaja določen sklop kode vse dokler je pogoj resničen (`True`)."
   ],
   "metadata": {
    "collapsed": false
   },
   "id": "f62dff4744d25c7f"
  },
  {
   "cell_type": "code",
   "execution_count": 6,
   "outputs": [
    {
     "name": "stdout",
     "output_type": "stream",
     "text": [
      "1\n",
      "2\n",
      "3\n",
      "4\n",
      "5\n"
     ]
    }
   ],
   "source": [
    "# izpisovanje vrednosti spremenljivke `i` vse dokler je vrednost `i` manjša od 6\n",
    "i = 1\n",
    "while i < 6:\n",
    "    print(i)\n",
    "    i += 1"
   ],
   "metadata": {
    "collapsed": false,
    "ExecuteTime": {
     "end_time": "2024-04-10T07:47:03.977540900Z",
     "start_time": "2024-04-10T07:47:03.954380400Z"
    }
   },
   "id": "1efc80d05efbc972"
  },
  {
   "cell_type": "code",
   "execution_count": 7,
   "outputs": [
    {
     "name": "stdout",
     "output_type": "stream",
     "text": [
      "1\n",
      "2\n",
      "3\n"
     ]
    }
   ],
   "source": [
    "# z izrazom `break` lahko predčasno zaključimo/prekinemo delovanje zanke, ne glede na to, da je pogoj še vedno resničen\n",
    "i = 1\n",
    "while i < 6:\n",
    "    print(i)\n",
    "    if i == 3:\n",
    "        break\n",
    "    i += 1"
   ],
   "metadata": {
    "collapsed": false,
    "ExecuteTime": {
     "end_time": "2024-04-10T07:47:03.977540900Z",
     "start_time": "2024-04-10T07:47:03.958892500Z"
    }
   },
   "id": "fcb9d2ab08395b4a"
  },
  {
   "cell_type": "markdown",
   "source": [
    "# Brane se preizkusi"
   ],
   "metadata": {
    "collapsed": false
   },
   "id": "77f02e8a08f4268e"
  },
  {
   "cell_type": "markdown",
   "source": [
    "Brane želi izpisati vsa soda števila med ena in sto. Naredi to namesto njega tako, da uporabiš zanko `while`."
   ],
   "metadata": {
    "collapsed": false
   },
   "id": "198af82fa62c8d72"
  },
  {
   "cell_type": "code",
   "execution_count": 8,
   "outputs": [],
   "source": [],
   "metadata": {
    "collapsed": false,
    "ExecuteTime": {
     "end_time": "2024-04-10T07:47:08.029858Z",
     "start_time": "2024-04-10T07:47:08.022822700Z"
    }
   },
   "id": "38a0bfc2731dc4a4"
  }
 ],
 "metadata": {
  "kernelspec": {
   "display_name": "Python 3",
   "language": "python",
   "name": "python3"
  },
  "language_info": {
   "codemirror_mode": {
    "name": "ipython",
    "version": 2
   },
   "file_extension": ".py",
   "mimetype": "text/x-python",
   "name": "python",
   "nbconvert_exporter": "python",
   "pygments_lexer": "ipython2",
   "version": "2.7.6"
  }
 },
 "nbformat": 4,
 "nbformat_minor": 5
}
