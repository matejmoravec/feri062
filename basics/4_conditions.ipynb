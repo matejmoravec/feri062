{
 "cells": [
  {
   "cell_type": "markdown",
   "source": [
    "# Pogojni stavki"
   ],
   "metadata": {
    "collapsed": false
   },
   "id": "f056227e25edd082"
  },
  {
   "cell_type": "markdown",
   "source": [
    "Pogojni stavki omogočajo uporabo običajnih logičnih pogojev iz matematike. Pogojni stavek se zapiše z uporabo ključne besede `if`. V programskem jeziku Python obstaja še ključna beseda `elif`, ki se izvede v primeru, da predhodni pogoj ni bil resničen. Ključna beseda `else` izvede odsek kode, če noben od prehodnih pogojev ni bil resničen."
   ],
   "metadata": {
    "collapsed": false
   },
   "id": "7e4ad7f38880985e"
  },
  {
   "cell_type": "code",
   "execution_count": 3,
   "outputs": [
    {
     "name": "stdout",
     "output_type": "stream",
     "text": [
      "a is greater than b\n"
     ]
    }
   ],
   "source": [
    "a = 50\n",
    "b = 20\n",
    "\n",
    "if b > a:\n",
    "    print(\"b is greater than a\")\n",
    "elif a == b:\n",
    "    print(\"a and b are equal\")\n",
    "else:\n",
    "    print(\"a is greater than b\")"
   ],
   "metadata": {
    "collapsed": false,
    "ExecuteTime": {
     "end_time": "2024-04-09T12:35:36.564447100Z",
     "start_time": "2024-04-09T12:35:36.553879200Z"
    }
   },
   "id": "b4e7299ab4d796e3"
  },
  {
   "cell_type": "markdown",
   "source": [
    "Pri pisanju pogojnih stavkov lahko uporabljamo tudi naslednje ključne besede `and`, `or` in `not`."
   ],
   "metadata": {
    "collapsed": false
   },
   "id": "40cde385e7448035"
  },
  {
   "cell_type": "code",
   "execution_count": 4,
   "outputs": [
    {
     "name": "stdout",
     "output_type": "stream",
     "text": [
      "Both conditions are True\n",
      "At least one of the conditions is True\n",
      "a is NOT greater than b\n"
     ]
    }
   ],
   "source": [
    "a = 200\n",
    "b = 33\n",
    "c = 500\n",
    "\n",
    "if a > b and c > a:\n",
    "    print(\"Both conditions are True\")\n",
    "    \n",
    "if a > b or a > c:\n",
    "    print(\"At least one of the conditions is True\")\n",
    "    \n",
    "if not b > a:\n",
    "    print(\"a is NOT greater than b\")"
   ],
   "metadata": {
    "collapsed": false,
    "ExecuteTime": {
     "end_time": "2024-04-09T12:35:36.569959900Z",
     "start_time": "2024-04-09T12:35:36.562512300Z"
    }
   },
   "id": "ca5a1e0e078ec053"
  },
  {
   "cell_type": "markdown",
   "source": [
    "# Brane se preizkusi"
   ],
   "metadata": {
    "collapsed": false
   },
   "id": "62251e807af7f70f"
  },
  {
   "cell_type": "markdown",
   "source": [
    "Brane in njegov prijatelj Zvone imata oba pitona. Branetov piton je dolg pet metrov, medtem, ko je piton od Zvoneta dolg le dva metra. Shrani dolžino vsakega pitona v svojo spremenljivko in zapiši pogojni stavek, ki bo preveril ali je Branetov piton daljši od Zvonetovega. V primeru, da je daljši, izpiši besedilo \"Brane ima daljšega pitona od Zvoneta\", če imata oba isto dolge pitone, izpiši \"Brane in Zvone imata isto dolga pitona\", če ne, izpiši besedilo \"Zvonetov piton je daljši od Branetovega\"."
   ],
   "metadata": {
    "collapsed": false
   },
   "id": "ab47368f7ef1222f"
  },
  {
   "cell_type": "code",
   "execution_count": null,
   "outputs": [],
   "source": [],
   "metadata": {
    "collapsed": false
   },
   "id": "91000916ae18eb6"
  }
 ],
 "metadata": {
  "kernelspec": {
   "display_name": "Python 3",
   "language": "python",
   "name": "python3"
  },
  "language_info": {
   "codemirror_mode": {
    "name": "ipython",
    "version": 2
   },
   "file_extension": ".py",
   "mimetype": "text/x-python",
   "name": "python",
   "nbconvert_exporter": "python",
   "pygments_lexer": "ipython2",
   "version": "2.7.6"
  }
 },
 "nbformat": 4,
 "nbformat_minor": 5
}
