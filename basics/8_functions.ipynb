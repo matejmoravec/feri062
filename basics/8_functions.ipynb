{
 "cells": [
  {
   "cell_type": "markdown",
   "source": [
    "# Funkcije"
   ],
   "metadata": {
    "collapsed": false
   },
   "id": "222827a4f78d30f8"
  },
  {
   "cell_type": "markdown",
   "source": [
    "Funkcija je sklop kode, ki se izvede le takrat, ko je poklicana. V funkcijo se lahko preko parametrov pošljejo podatki. Funkcija lahko le izvede določen sklop kode in nič ne vrne ali pa izvede sklop kode in zraven vrne še vrednost."
   ],
   "metadata": {
    "collapsed": false
   },
   "id": "ebbce1402e229708"
  },
  {
   "cell_type": "code",
   "execution_count": 1,
   "outputs": [],
   "source": [
    "def my_function():\n",
    "    print(\"Hello from a function\")"
   ],
   "metadata": {
    "collapsed": false,
    "ExecuteTime": {
     "end_time": "2024-04-09T08:09:43.348562900Z",
     "start_time": "2024-04-09T08:09:43.344371800Z"
    }
   },
   "id": "dd89b97308d5ab95"
  },
  {
   "cell_type": "code",
   "execution_count": 2,
   "outputs": [
    {
     "name": "stdout",
     "output_type": "stream",
     "text": [
      "Hello from a function\n"
     ]
    }
   ],
   "source": [
    "my_function()"
   ],
   "metadata": {
    "collapsed": false,
    "ExecuteTime": {
     "end_time": "2024-04-09T08:09:45.252349300Z",
     "start_time": "2024-04-09T08:09:45.224796100Z"
    }
   },
   "id": "5607b8b6e56b9815"
  },
  {
   "cell_type": "code",
   "execution_count": 8,
   "outputs": [],
   "source": [
    "def sum(a, b = 1):\n",
    "    return a + b"
   ],
   "metadata": {
    "collapsed": false,
    "ExecuteTime": {
     "end_time": "2024-04-09T08:10:24.725560800Z",
     "start_time": "2024-04-09T08:10:24.712401200Z"
    }
   },
   "id": "a4079df929d71c1d"
  },
  {
   "cell_type": "code",
   "execution_count": 9,
   "outputs": [
    {
     "name": "stdout",
     "output_type": "stream",
     "text": [
      "5\n"
     ]
    }
   ],
   "source": [
    "sum_value = sum(2, 3)\n",
    "\n",
    "print(sum_value)"
   ],
   "metadata": {
    "collapsed": false,
    "ExecuteTime": {
     "end_time": "2024-04-09T08:10:25.703086600Z",
     "start_time": "2024-04-09T08:10:25.680158400Z"
    }
   },
   "id": "f8fb134c12498786"
  },
  {
   "cell_type": "code",
   "execution_count": 10,
   "outputs": [
    {
     "name": "stdout",
     "output_type": "stream",
     "text": [
      "5\n"
     ]
    }
   ],
   "source": [
    "sum_value = sum(b = 3, a = 2)\n",
    "\n",
    "print(sum_value)"
   ],
   "metadata": {
    "collapsed": false,
    "ExecuteTime": {
     "end_time": "2024-04-09T08:10:42.913065100Z",
     "start_time": "2024-04-09T08:10:42.872073100Z"
    }
   },
   "id": "76e474518b41bc92"
  },
  {
   "cell_type": "code",
   "execution_count": 11,
   "outputs": [
    {
     "name": "stdout",
     "output_type": "stream",
     "text": [
      "3\n"
     ]
    }
   ],
   "source": [
    "sum_value = sum(2)\n",
    "\n",
    "print(sum_value)"
   ],
   "metadata": {
    "collapsed": false,
    "ExecuteTime": {
     "end_time": "2024-04-09T08:11:05.864086600Z",
     "start_time": "2024-04-09T08:11:05.857937100Z"
    }
   },
   "id": "7b49945182320446"
  },
  {
   "cell_type": "markdown",
   "source": [
    "## Vgrajene matematične funkcije\n",
    "\n",
    "Programski jezik Python ima nabor vgrajenih matematičnih funkcij, ki jih lahko uporabimo za izvajanje matematičnih operacij nad števili."
   ],
   "metadata": {
    "collapsed": false
   },
   "id": "2ce9c0f27fe81ca6"
  },
  {
   "cell_type": "code",
   "execution_count": 12,
   "outputs": [
    {
     "name": "stdout",
     "output_type": "stream",
     "text": [
      "5\n",
      "25\n"
     ]
    }
   ],
   "source": [
    "min_value = min(5, 10, 25)  # funkcija `min` vrne najmanjšo vrednost v seznamu\n",
    "max_value = max(5, 10, 25)  # funkcija `max` vrne največjo vrednost v seznamu\n",
    "\n",
    "print(min_value)\n",
    "print(max_value)"
   ],
   "metadata": {
    "collapsed": false,
    "ExecuteTime": {
     "end_time": "2024-04-09T08:11:37.873963500Z",
     "start_time": "2024-04-09T08:11:37.840875600Z"
    }
   },
   "id": "77226e21243681ea"
  },
  {
   "cell_type": "code",
   "execution_count": 13,
   "outputs": [
    {
     "name": "stdout",
     "output_type": "stream",
     "text": [
      "-7 7\n"
     ]
    }
   ],
   "source": [
    "a = -7\n",
    "b = abs(a)  # funkcija `abs` vrne absolutno (pozitivno) vrednost\n",
    "\n",
    "print(a, b)"
   ],
   "metadata": {
    "collapsed": false,
    "ExecuteTime": {
     "end_time": "2024-04-09T08:12:10.430952600Z",
     "start_time": "2024-04-09T08:12:10.421964300Z"
    }
   },
   "id": "8e00f34becdbeab"
  },
  {
   "cell_type": "code",
   "execution_count": 14,
   "outputs": [
    {
     "name": "stdout",
     "output_type": "stream",
     "text": [
      "64\n"
     ]
    }
   ],
   "source": [
    "x = pow(4, 3)   # funkcija `pow(a, b)` vrne število 4 na potenco 3 \n",
    "\n",
    "print(x)"
   ],
   "metadata": {
    "collapsed": false,
    "ExecuteTime": {
     "end_time": "2024-04-09T08:12:13.266244Z",
     "start_time": "2024-04-09T08:12:13.258175Z"
    }
   },
   "id": "e41e5cbcc0511783"
  },
  {
   "cell_type": "markdown",
   "source": [
    "### Modul `math`\n",
    "\n",
    "Programski jezik Python ima vgrajen modul `math`, ki razširja seznam matematičnih funkcij. Za uporabo modula, ga moramo le vključiti v datoteko. Metoda `math.sqrt()` npr. vrne kvadratni koren podanega števila. Nabor preostalih funkcij v modulu `math`: [https://www.w3schools.com/python/module_math.asp](https://www.w3schools.com/python/module_math.asp)."
   ],
   "metadata": {
    "collapsed": false
   },
   "id": "f900a403a73d97e1"
  },
  {
   "cell_type": "code",
   "execution_count": 15,
   "outputs": [
    {
     "name": "stdout",
     "output_type": "stream",
     "text": [
      "8.0\n"
     ]
    }
   ],
   "source": [
    "import math\n",
    "\n",
    "x = math.sqrt(64)\n",
    "\n",
    "print(x)"
   ],
   "metadata": {
    "collapsed": false,
    "ExecuteTime": {
     "end_time": "2024-04-09T08:13:03.331437600Z",
     "start_time": "2024-04-09T08:13:03.291213900Z"
    }
   },
   "id": "9f518c674d4cf50f"
  },
  {
   "cell_type": "code",
   "execution_count": 16,
   "outputs": [
    {
     "name": "stdout",
     "output_type": "stream",
     "text": [
      "2\n",
      "1\n"
     ]
    }
   ],
   "source": [
    "x = math.ceil(1.4)  # metoda `math.ceil()` zaokroži podano število nazgor in ga vrne\n",
    "y = math.floor(1.)  # metoda `math.floor()` zaokroži podano ševilo navzdol in ga vrne\n",
    "\n",
    "print(x)\n",
    "print(y)"
   ],
   "metadata": {
    "collapsed": false,
    "ExecuteTime": {
     "end_time": "2024-04-09T08:13:08.468853100Z",
     "start_time": "2024-04-09T08:13:08.459439100Z"
    }
   },
   "id": "598ed9a61112deb5"
  },
  {
   "cell_type": "code",
   "execution_count": 17,
   "outputs": [
    {
     "name": "stdout",
     "output_type": "stream",
     "text": [
      "3.141592653589793\n"
     ]
    }
   ],
   "source": [
    "print(math.pi)  # `math.pi` je konstanta, ki vrne vrednost PI (3.14...)"
   ],
   "metadata": {
    "collapsed": false,
    "ExecuteTime": {
     "end_time": "2024-04-09T08:13:12.953339100Z",
     "start_time": "2024-04-09T08:13:12.944314500Z"
    }
   },
   "id": "21e60d332240eb55"
  },
  {
   "cell_type": "markdown",
   "source": [
    "# Brane se preizkusi"
   ],
   "metadata": {
    "collapsed": false
   },
   "id": "6addcc3b21d00d08"
  },
  {
   "cell_type": "markdown",
   "source": [
    "Brane ne želi uporabiti vgrajenega modula `math`. Rad bi zapisal svojo funkcijo, ki prejme dve števili in vrne večjo. Naredi to namesto njega. "
   ],
   "metadata": {
    "collapsed": false
   },
   "id": "706b4756ffde9952"
  },
  {
   "cell_type": "code",
   "execution_count": 18,
   "outputs": [],
   "source": [],
   "metadata": {
    "collapsed": false,
    "ExecuteTime": {
     "end_time": "2024-04-10T07:53:58.291645300Z",
     "start_time": "2024-04-10T07:53:58.284717100Z"
    }
   },
   "id": "5efe90d5209d7eb2"
  },
  {
   "cell_type": "markdown",
   "source": [
    "Brane želi, da pokličeš funkcijo s številoma 5002 in 200, rezultat funkcije shraniš v spremenljivko in izpišeš vrednost spremenljivke."
   ],
   "metadata": {
    "collapsed": false
   },
   "id": "ed43127edbf6697a"
  },
  {
   "cell_type": "code",
   "execution_count": 22,
   "outputs": [],
   "source": [],
   "metadata": {
    "collapsed": false,
    "ExecuteTime": {
     "end_time": "2024-04-10T07:55:32.080459400Z",
     "start_time": "2024-04-10T07:55:32.064462200Z"
    }
   },
   "id": "aaa400f58bd8faa7"
  },
  {
   "cell_type": "markdown",
   "source": [
    "Brane ima seznam števil. Napiši funkcijo, ki bo prejela seznam in vrnila največje število iz seznama."
   ],
   "metadata": {
    "collapsed": false
   },
   "id": "bce6de50bdd0e86"
  },
  {
   "cell_type": "code",
   "execution_count": 24,
   "outputs": [],
   "source": [
    "numbers = [2005, 500, 90, 0, 20, 19, 12, 5002, 90, 0, 102]\n",
    "\n"
   ],
   "metadata": {
    "collapsed": false,
    "ExecuteTime": {
     "end_time": "2024-04-10T08:00:23.074197500Z",
     "start_time": "2024-04-10T08:00:23.061362800Z"
    }
   },
   "id": "7225807ee73a71b1"
  }
 ],
 "metadata": {
  "kernelspec": {
   "display_name": "Python 3",
   "language": "python",
   "name": "python3"
  },
  "language_info": {
   "codemirror_mode": {
    "name": "ipython",
    "version": 2
   },
   "file_extension": ".py",
   "mimetype": "text/x-python",
   "name": "python",
   "nbconvert_exporter": "python",
   "pygments_lexer": "ipython2",
   "version": "2.7.6"
  }
 },
 "nbformat": 4,
 "nbformat_minor": 5
}
