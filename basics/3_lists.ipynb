{
 "cells": [
  {
   "cell_type": "markdown",
   "source": [
    "# Seznami"
   ],
   "metadata": {
    "collapsed": false
   },
   "id": "ec082766d92a8b1d"
  },
  {
   "cell_type": "markdown",
   "source": [
    "Seznami se uporabljajo za shranjevanje več vrednosti v eno spremenljivko. Seznam se ustvari z uporabo oglatih oklepajev. Vrednosti v seznamu se hranijo v seznamu v istem vrstnem redu, kot so bile dodane, jih lahko spreminjamo, dodajamo, odstranjujemo in seznam lahko vsebuje več istih vrednosti. Vsaka vrednost v seznamu ima svoj indeks oz. pozicijo (prva vrednost ima index `[0]`, druga indeks `[1]` ...). Seznam metod, ki se jih lahko uporabi nad seznamom se nahaja na naslednji povezavi: [https://www.w3schools.com/python/python_lists_methods.asp](https://www.w3schools.com/python/python_lists_methods.asp)."
   ],
   "metadata": {
    "collapsed": false
   },
   "id": "27dd6f98da0d8235"
  },
  {
   "cell_type": "code",
   "execution_count": 1,
   "outputs": [
    {
     "name": "stdout",
     "output_type": "stream",
     "text": [
      "['jabolko', 'banana', 'češnja']\n",
      "['jabolko', 'banana', 'češnja', 'hruška']\n",
      "Dolžina seznama: 4\n",
      "Prva vrednost v seznamu:  jabolko\n",
      "Prva in druga vrednost:  ['jabolko', 'banana']\n",
      "['sliva', 'banana', 'češnja', 'hruška']\n",
      "['sliva', 'melona', 'banana', 'češnja', 'hruška']\n",
      "['sliva', 'melona', 'češnja', 'hruška']\n",
      "Izpis vseh vrednosti v seznamu z uporabo 'for' zanke:\n",
      "sliva\n",
      "melona\n",
      "češnja\n",
      "hruška\n"
     ]
    }
   ],
   "source": [
    "my_list = [\"jabolko\", \"banana\", \"češnja\"]\n",
    "print(my_list)\n",
    "\n",
    "my_list.append(\"hruška\")\n",
    "print(my_list)\n",
    "\n",
    "print(f\"Dolžina seznama: {len(my_list)}\")\n",
    "\n",
    "print(\"Prva vrednost v seznamu: \", my_list[0])\n",
    "\n",
    "print(\"Prva in druga vrednost: \", my_list[0:2])\n",
    "\n",
    "my_list[0] = \"sliva\"\n",
    "print(my_list)\n",
    "\n",
    "my_list.insert(1, \"melona\")\n",
    "print(my_list)\n",
    "\n",
    "my_list.remove(\"banana\")\n",
    "print(my_list)\n",
    "\n",
    "print(\"Izpis vseh vrednosti v seznamu z uporabo 'for' zanke:\")\n",
    "for value in my_list:\n",
    "    print(value)"
   ],
   "metadata": {
    "collapsed": false,
    "ExecuteTime": {
     "end_time": "2024-04-09T08:01:29.216387100Z",
     "start_time": "2024-04-09T08:01:29.203388700Z"
    }
   },
   "id": "7cb90993c7b020c1"
  },
  {
   "cell_type": "code",
   "execution_count": 2,
   "outputs": [
    {
     "name": "stdout",
     "output_type": "stream",
     "text": [
      "[5, 9, 2000, 302, 9]\n",
      "[5, 9, 9, 302, 2000]\n",
      "[2000, 302, 9, 9, 5]\n"
     ]
    }
   ],
   "source": [
    "my_values = [5, 9, 2000, 302, 9]\n",
    "print(my_values)\n",
    "\n",
    "my_values.sort()\n",
    "print(my_values)\n",
    "\n",
    "my_values.sort(reverse=True)\n",
    "print(my_values)"
   ],
   "metadata": {
    "collapsed": false,
    "ExecuteTime": {
     "end_time": "2024-04-09T08:01:34.654324Z",
     "start_time": "2024-04-09T08:01:34.618094200Z"
    }
   },
   "id": "e55d2e5512475ff5"
  },
  {
   "cell_type": "markdown",
   "source": [
    "# Brane se preizkusi"
   ],
   "metadata": {
    "collapsed": false
   },
   "id": "2405a5a7e705abea"
  },
  {
   "cell_type": "markdown",
   "source": [
    "Brane je svojemu pitonu dal ime Jure. Zraven pitona ima še psa z imenom Rex, hrčka z imenom Bobi in muco z imenom Bela. Shrani imena Branetovih živali v en seznam."
   ],
   "metadata": {
    "collapsed": false
   },
   "id": "fddbcf425db1a935"
  },
  {
   "cell_type": "code",
   "execution_count": 2,
   "outputs": [],
   "source": [],
   "metadata": {
    "collapsed": false,
    "ExecuteTime": {
     "end_time": "2024-04-09T11:42:02.719724500Z",
     "start_time": "2024-04-09T11:42:02.717188800Z"
    }
   },
   "id": "3d0e1b8faf3a8b06"
  },
  {
   "cell_type": "markdown",
   "source": [
    "Izpiši drugo ime iz seznama."
   ],
   "metadata": {
    "collapsed": false
   },
   "id": "26a8adc9c33aa5c7"
  },
  {
   "cell_type": "code",
   "execution_count": 2,
   "outputs": [],
   "source": [],
   "metadata": {
    "collapsed": false,
    "ExecuteTime": {
     "end_time": "2024-04-09T11:42:29.418379Z",
     "start_time": "2024-04-09T11:42:29.412373600Z"
    }
   },
   "id": "a032287a6cc48a11"
  },
  {
   "cell_type": "markdown",
   "source": [
    "V seznam dodaj še ime Branetovo papige z imenom Justa."
   ],
   "metadata": {
    "collapsed": false
   },
   "id": "a561504fff8a5bb7"
  },
  {
   "cell_type": "code",
   "execution_count": 2,
   "outputs": [],
   "source": [],
   "metadata": {
    "collapsed": false,
    "ExecuteTime": {
     "end_time": "2024-04-09T11:43:31.377548200Z",
     "start_time": "2024-04-09T11:43:31.371007300Z"
    }
   },
   "id": "3682e78347b4d60e"
  }
 ],
 "metadata": {
  "kernelspec": {
   "display_name": "Python 3",
   "language": "python",
   "name": "python3"
  },
  "language_info": {
   "codemirror_mode": {
    "name": "ipython",
    "version": 2
   },
   "file_extension": ".py",
   "mimetype": "text/x-python",
   "name": "python",
   "nbconvert_exporter": "python",
   "pygments_lexer": "ipython2",
   "version": "2.7.6"
  }
 },
 "nbformat": 4,
 "nbformat_minor": 5
}
