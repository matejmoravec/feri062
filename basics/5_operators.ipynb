{
 "cells": [
  {
   "cell_type": "markdown",
   "source": [
    "# Operatorji"
   ],
   "metadata": {
    "collapsed": false
   },
   "id": "24f4de30d488b9ce"
  },
  {
   "cell_type": "markdown",
   "source": [
    "Operatorji se uporabljajo za izvajanje operacij nad spremenljivkami in vrednostmi.\n",
    "\n",
    "Programski jezik Python deli operatorje v naslednje skupine:\n",
    "\n",
    "- Aritmetični operatorji\n",
    "- Operatorji dodelitve\n",
    "- Operatorji za primerjavo\n",
    "- Logični operatorji\n",
    "- Operatorji identitete\n",
    "- Operatorji pripadnosti\n",
    "- Bitni operatorji\n",
    "\n",
    "Celoten seznam operatorjev je dostopen na naslednji povezavi: [https://www.w3schools.com/python/python_operators.asp](https://www.w3schools.com/python/python_operators.asp)."
   ],
   "metadata": {
    "collapsed": false
   },
   "id": "5650039f231521cd"
  },
  {
   "cell_type": "code",
   "execution_count": 1,
   "outputs": [
    {
     "name": "stdout",
     "output_type": "stream",
     "text": [
      "10\n",
      "-6\n",
      "16\n",
      "0.25\n",
      "2\n",
      "64\n",
      "0\n"
     ]
    }
   ],
   "source": [
    "a = 2\n",
    "b = 8\n",
    "\n",
    "# aritmetični operatorji\n",
    "print(a + b)\n",
    "print(a - b)\n",
    "print(a * b)\n",
    "print(a / b)\n",
    "print(a % b)\n",
    "print(b ** a)\n",
    "print(a // b)   # rezultat deljenja zaokroži na najbližje celo število"
   ],
   "metadata": {
    "collapsed": false,
    "ExecuteTime": {
     "end_time": "2024-04-09T07:57:43.233588600Z",
     "start_time": "2024-04-09T07:57:43.218983200Z"
    }
   },
   "id": "1f1baf889b840342"
  },
  {
   "cell_type": "code",
   "execution_count": 2,
   "outputs": [
    {
     "name": "stdout",
     "output_type": "stream",
     "text": [
      "13\n",
      "5\n"
     ]
    }
   ],
   "source": [
    "a = 10\n",
    "b = 5\n",
    "\n",
    "# operatorji dodelitve\n",
    "a += 3\n",
    "b %= a\n",
    "\n",
    "print(a)\n",
    "print(b)"
   ],
   "metadata": {
    "collapsed": false,
    "ExecuteTime": {
     "end_time": "2024-04-09T07:57:48.987996500Z",
     "start_time": "2024-04-09T07:57:48.954979400Z"
    }
   },
   "id": "1086e5fed5246457"
  },
  {
   "cell_type": "markdown",
   "source": [
    "# Brane se preizkusi"
   ],
   "metadata": {
    "collapsed": false
   },
   "id": "4992843561ecad9a"
  },
  {
   "cell_type": "markdown",
   "source": [
    "Brane ima dve jabolki in tri hruške. Shrani količino jabolk v svojo spremenljivko in količino hrušk v svojo. V novi spremenljivki seštej koliko sadežev ima Brane. Izpiši skupno količino."
   ],
   "metadata": {
    "collapsed": false
   },
   "id": "11527fb96e963e84"
  },
  {
   "cell_type": "code",
   "execution_count": 3,
   "outputs": [],
   "source": [],
   "metadata": {
    "collapsed": false,
    "ExecuteTime": {
     "end_time": "2024-04-09T12:47:08.420353400Z",
     "start_time": "2024-04-09T12:47:08.416818Z"
    }
   },
   "id": "5c6baaf9e1903f83"
  },
  {
   "cell_type": "markdown",
   "source": [
    "Brane ima novo košaro in z njo se odpravi pod jablano. Na tleh najde petindvajset jabolk. Koliko jabolk ostane na tleh, če je maksimalna kapaciteta košare dvajset jabolk?"
   ],
   "metadata": {
    "collapsed": false
   },
   "id": "5b12415beae464f"
  },
  {
   "cell_type": "code",
   "execution_count": null,
   "outputs": [],
   "source": [],
   "metadata": {
    "collapsed": false
   },
   "id": "701353f5679c7a62"
  }
 ],
 "metadata": {
  "kernelspec": {
   "display_name": "Python 3",
   "language": "python",
   "name": "python3"
  },
  "language_info": {
   "codemirror_mode": {
    "name": "ipython",
    "version": 2
   },
   "file_extension": ".py",
   "mimetype": "text/x-python",
   "name": "python",
   "nbconvert_exporter": "python",
   "pygments_lexer": "ipython2",
   "version": "2.7.6"
  }
 },
 "nbformat": 4,
 "nbformat_minor": 5
}
