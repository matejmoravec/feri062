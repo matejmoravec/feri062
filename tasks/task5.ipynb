{
 "cells": [
  {
   "cell_type": "markdown",
   "source": [
    "# Zapis in uporaba funkcij"
   ],
   "metadata": {
    "collapsed": false
   },
   "id": "2b1c83ae09f2e6b6"
  },
  {
   "cell_type": "markdown",
   "source": [
    "Napišite funkcijo, ki prejme dve števili kot argumenta in vrne njuno vsoto."
   ],
   "metadata": {
    "collapsed": false
   },
   "id": "e3f9273b49f4817d"
  },
  {
   "cell_type": "code",
   "execution_count": 1,
   "outputs": [],
   "source": [],
   "metadata": {
    "collapsed": false,
    "ExecuteTime": {
     "end_time": "2024-05-08T13:02:45.191738100Z",
     "start_time": "2024-05-08T13:02:45.186744700Z"
    }
   },
   "id": "b2b0674302efc65"
  },
  {
   "cell_type": "markdown",
   "source": [
    "Napišite funkcijo, ki prejme seznam števil kot argument in vrne povprečno vrednost teh števil. Za izračun uporabite `for` zanko."
   ],
   "metadata": {
    "collapsed": false
   },
   "id": "61c9519bdbc81189"
  },
  {
   "cell_type": "code",
   "execution_count": 1,
   "outputs": [],
   "source": [],
   "metadata": {
    "collapsed": false,
    "ExecuteTime": {
     "end_time": "2024-05-08T13:06:19.064409100Z",
     "start_time": "2024-05-08T13:06:19.050952300Z"
    }
   },
   "id": "85a6cece7ddf7f1f"
  },
  {
   "cell_type": "markdown",
   "source": [
    "Napišite funkcijo, ki prejme temperaturo v stopinjah Celzija kot argument in vrne temperaturo v stopinjah Fahrenheit. Enačba za pretvorbo je `T(F) = (T(C) * 9/5) + 32`."
   ],
   "metadata": {
    "collapsed": false
   },
   "id": "991c2c2fe7b29157"
  },
  {
   "cell_type": "code",
   "execution_count": 1,
   "outputs": [],
   "source": [],
   "metadata": {
    "collapsed": false,
    "ExecuteTime": {
     "end_time": "2024-05-08T13:09:28.631603500Z",
     "start_time": "2024-05-08T13:09:28.626549600Z"
    }
   },
   "id": "57f59cab641f8bf"
  },
  {
   "cell_type": "markdown",
   "source": [
    "Napišite funkcijo, ki prejme število kot argument in preveri ali je podano število popolno število. Funkcija naj vrne logično vrednost `True`, če je število popolno, v nasprotnem primeru vrne logično vrednost `False`.\n",
    "\n",
    "Popolno število je v matematiki pozitivno celo število n, za katerega je vsota pozitivnih pravih deliteljev enaka številu n."
   ],
   "metadata": {
    "collapsed": false
   },
   "id": "992d3776f2e0fa85"
  },
  {
   "cell_type": "code",
   "execution_count": 1,
   "outputs": [],
   "source": [],
   "metadata": {
    "collapsed": false,
    "ExecuteTime": {
     "end_time": "2024-05-08T13:16:08.214173400Z",
     "start_time": "2024-05-08T13:16:08.197996100Z"
    }
   },
   "id": "91076b3ce0c7691c"
  },
  {
   "cell_type": "markdown",
   "source": [
    "Napišite funkcijo, ki prejme seznam števil kot argument in vrne vsoto števil na lihih indeksih seznama."
   ],
   "metadata": {
    "collapsed": false
   },
   "id": "820e79688f85c206"
  },
  {
   "cell_type": "code",
   "execution_count": 1,
   "outputs": [],
   "source": [],
   "metadata": {
    "collapsed": false,
    "ExecuteTime": {
     "end_time": "2024-05-08T13:16:43.455495200Z",
     "start_time": "2024-05-08T13:16:43.448466300Z"
    }
   },
   "id": "bcf7685062334ab8"
  },
  {
   "cell_type": "markdown",
   "source": [
    "Pokličite vsako funkcijo in tako preverite ali vračajo pričakovane rezultate."
   ],
   "metadata": {
    "collapsed": false
   },
   "id": "86fac791dc63be06"
  },
  {
   "cell_type": "code",
   "execution_count": null,
   "outputs": [],
   "source": [],
   "metadata": {
    "collapsed": false
   },
   "id": "9785f2b244323496"
  }
 ],
 "metadata": {
  "kernelspec": {
   "display_name": "Python 3",
   "language": "python",
   "name": "python3"
  },
  "language_info": {
   "codemirror_mode": {
    "name": "ipython",
    "version": 2
   },
   "file_extension": ".py",
   "mimetype": "text/x-python",
   "name": "python",
   "nbconvert_exporter": "python",
   "pygments_lexer": "ipython2",
   "version": "2.7.6"
  }
 },
 "nbformat": 4,
 "nbformat_minor": 5
}
