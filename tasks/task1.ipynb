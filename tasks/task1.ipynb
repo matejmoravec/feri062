{
 "cells": [
  {
   "cell_type": "markdown",
   "source": [
    "# Kaj naj Tina počne glede na trenutno temperaturo zraka?\n",
    "\n",
    "## Opis naloge\n",
    "\n",
    "Tina je ljubiteljica narave in se rada odpravi na različne dejavnosti glede na vreme. Želi si napisati Python program, ki ji bo glede na trenutno temperaturo in vremenske pogoje predlagal ustrezno dejavnost. Pomagajte Tini pri ustvarjanju programa.\n",
    "\n",
    "## Specifikacije\n",
    "\n",
    "1. **Vnos podatkov:**\n",
    "    Program naj uporabnika vpraša po trenutni temperaturi (v stopinjah Celzija) in stanju vremena (možnosti: `\"sončno\"`, `\"oblačno\"` ali `\"deževno\"`).\n",
    "2. **Izbira dejavnosti:**\n",
    "    Program naj glede na vnesene podatke uporabi pogojne stavke in predlaga ustrezno dejavnost:\n",
    "   * Če je temperatura nad 25 stopinjami Celzija in je vreme sončno, predlagaj `\"piknik v parku\"`.\n",
    "   * Če je temperatura med 15 in 25 stopinjami Celzija in je vreme oblačno, predlaga `\"sprehod v gozdu\"`.\n",
    "   * Če je temperatura pod 15 stopinj Celzija ali je vreme deževno, predlagaj `\"dan v muzeju\"`.\n",
    "3. **Izpis predloga, katero aktivnost izbrati:**\n",
    "    Program naj izpišite predlagano dejavnost glede na rezultat preverjanja.\n",
    "\n",
    "## Primer izvajanja programa\n",
    "\n",
    "Primer 1:\n",
    "```\n",
    "Vnesi trenutno temperaturo (v stopinjah Celzija): 28\n",
    "Kakšno je danes vreme (sončno/oblačno/deževno): sončno\n",
    "\n",
    "Predlagana dejavnost: piknik v parku\n",
    "```\n",
    "\n",
    "Primer 2:\n",
    "```\n",
    "Vnesi trenutno temperaturo (v stopinjah Celzija: 18\n",
    "Kakšno je danes vreme (sončno/oblačno/deževno): oblačno\n",
    "\n",
    "Predlagana dejavnost: sprehod v gozdu\n",
    "```\n",
    "\n",
    "Primer 3:\n",
    "```\n",
    "Vnesi trenutno temperaturo (v stopinjah Celzija): 12\n",
    "Kakšno je danes vreme (sončno/oblačno/deževno): deževno\n",
    "\n",
    "Predlagana dejavnost: dan v muzeju\n",
    "```\n"
   ],
   "metadata": {
    "collapsed": false
   },
   "id": "793f80cf3dbe2e20"
  },
  {
   "cell_type": "code",
   "execution_count": 1,
   "outputs": [],
   "source": [
    "# vnos podatkov\n",
    "temperature = float(input(\"Vnesi trenutno temperaturo (v stopinjah Celzija)\"))\n",
    "weather = input(\"Kakšno je danes vreme (sončno/oblačno/deževno)?\").lower()\n",
    "\n",
    "# preverjanje dejavnosti glede na vreme\n",
    "\n",
    "# izpis predlagane dejavnosti\n"
   ],
   "metadata": {
    "collapsed": false,
    "ExecuteTime": {
     "end_time": "2024-04-15T11:32:38.547536700Z",
     "start_time": "2024-04-15T11:32:31.911609300Z"
    }
   },
   "id": "26ffc22cee743bc1"
  }
 ],
 "metadata": {
  "kernelspec": {
   "display_name": "Python 3",
   "language": "python",
   "name": "python3"
  },
  "language_info": {
   "codemirror_mode": {
    "name": "ipython",
    "version": 2
   },
   "file_extension": ".py",
   "mimetype": "text/x-python",
   "name": "python",
   "nbconvert_exporter": "python",
   "pygments_lexer": "ipython2",
   "version": "2.7.6"
  }
 },
 "nbformat": 4,
 "nbformat_minor": 5
}
