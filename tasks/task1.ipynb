{
 "cells": [
  {
   "cell_type": "markdown",
   "source": [
    "# Filtriranje in seštevanje števil iz seznama\n",
    "\n",
    "## Opis naloge\n",
    "\n",
    "Zapišite program v programskem jeziku Python, ki obravnava seznam celih števil. Vaša naloga je iz podanega seznama\n",
    "filtrirati vsa števila, ki so večja od določene meje, nato izračunati in izpisati vsoto teh števil. Program naj na\n",
    "koncu izpiše še filtrirani seznam števil, ki presegajo to mejo.\n",
    "\n",
    "## Specifikacije\n",
    "\n",
    "- Seznam celih števil je že zapisan na začetku spodnjega programa.\n",
    "- Filtrirajte vsa števila, ki so večja od 20 tako, da jih shranite v nov seznam.\n",
    "- Program mora izračunati vsoto vseh števil v filtriranem seznamu.\n",
    "- Program mora izpisati vsoto filtriranih števil.\n",
    "- Program mora izpisati števil iz filtriranega seznama."
   ],
   "metadata": {
    "collapsed": false
   },
   "id": "50663052c12bacc7"
  },
  {
   "cell_type": "code",
   "execution_count": 2,
   "outputs": [],
   "source": [
    "numbers = [10, 20, 5, 30, 100]\n",
    "\n"
   ],
   "metadata": {
    "collapsed": false,
    "ExecuteTime": {
     "end_time": "2024-04-10T08:28:05.577683200Z",
     "start_time": "2024-04-10T08:28:05.571677100Z"
    }
   },
   "id": "d30922f6b8e569ee"
  }
 ],
 "metadata": {
  "kernelspec": {
   "display_name": "Python 3",
   "language": "python",
   "name": "python3"
  },
  "language_info": {
   "codemirror_mode": {
    "name": "ipython",
    "version": 2
   },
   "file_extension": ".py",
   "mimetype": "text/x-python",
   "name": "python",
   "nbconvert_exporter": "python",
   "pygments_lexer": "ipython2",
   "version": "2.7.6"
  }
 },
 "nbformat": 4,
 "nbformat_minor": 5
}
