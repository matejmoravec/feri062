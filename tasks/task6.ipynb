{
 "cells": [
  {
   "cell_type": "markdown",
   "source": [
    "# Iskanje najdaljše besede v nizu\n",
    "\n",
    "## Opis naloge\n",
    "\n",
    "Napišite program v programskem jeziku Python, ki najde najdaljšo besedo v danem nizu besed.\n",
    "\n",
    "## Specifikacije\n",
    "\n",
    "- Besedilo v katerem iščete najdaljšo besedo, je shranjeno v spremenljivki `text`.\n",
    "- Implementirajte funkcijo, ki kot argument prejme besedilo in vrne najdaljšo besedo v podanem besedilu.\n",
    "- V glavnem programu izpišite najdaljšo besedo in dolžino najdaljše besede."
   ],
   "metadata": {
    "collapsed": false
   },
   "id": "74b747e59500058a"
  },
  {
   "cell_type": "code",
   "execution_count": 4,
   "outputs": [],
   "source": [
    "text = \"Lorem Ipsum is simply dummy text of the printing and typesetting industry. Lorem Ipsum has been the industry's standard dummy text ever since the 1500s, when an unknown printer took a galley of type and scrambled it to make a type specimen book. It has survived not only five centuries, but also the leap into electronic typesetting, remaining essentially unchanged. It was popularised in the 1960s with the release of Letraset sheets containing Lorem Ipsum passages, and more recently with desktop publishing software like Aldus PageMaker including versions of Lorem Ipsum.\"\n",
    "\n"
   ],
   "metadata": {
    "collapsed": false,
    "ExecuteTime": {
     "end_time": "2024-05-09T08:49:15.278694300Z",
     "start_time": "2024-05-09T08:49:15.271940100Z"
    }
   },
   "id": "d56d0bb5b844fa79"
  }
 ],
 "metadata": {
  "kernelspec": {
   "display_name": "Python 3",
   "language": "python",
   "name": "python3"
  },
  "language_info": {
   "codemirror_mode": {
    "name": "ipython",
    "version": 2
   },
   "file_extension": ".py",
   "mimetype": "text/x-python",
   "name": "python",
   "nbconvert_exporter": "python",
   "pygments_lexer": "ipython2",
   "version": "2.7.6"
  }
 },
 "nbformat": 4,
 "nbformat_minor": 5
}
