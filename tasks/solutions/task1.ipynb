{
 "cells": [
  {
   "cell_type": "code",
   "execution_count": 5,
   "id": "initial_id",
   "metadata": {
    "collapsed": true,
    "ExecuteTime": {
     "end_time": "2024-05-08T12:59:13.041082600Z",
     "start_time": "2024-05-08T12:59:10.813600900Z"
    }
   },
   "outputs": [
    {
     "ename": "ValueError",
     "evalue": "could not convert string to float: ''",
     "output_type": "error",
     "traceback": [
      "\u001B[1;31m---------------------------------------------------------------------------\u001B[0m",
      "\u001B[1;31mValueError\u001B[0m                                Traceback (most recent call last)",
      "Cell \u001B[1;32mIn[5], line 2\u001B[0m\n\u001B[0;32m      1\u001B[0m \u001B[38;5;66;03m# vnos podatkov\u001B[39;00m\n\u001B[1;32m----> 2\u001B[0m temperature \u001B[38;5;241m=\u001B[39m \u001B[38;5;28mfloat\u001B[39m(\u001B[38;5;28minput\u001B[39m(\u001B[38;5;124m\"\u001B[39m\u001B[38;5;124mVnesi trenutno temperaturo (v stopinjah Celzija)\u001B[39m\u001B[38;5;124m\"\u001B[39m))\n\u001B[0;32m      3\u001B[0m weather \u001B[38;5;241m=\u001B[39m \u001B[38;5;28minput\u001B[39m(\u001B[38;5;124m\"\u001B[39m\u001B[38;5;124mKakšno je danes vreme (sončno/oblačno/deževno)?\u001B[39m\u001B[38;5;124m\"\u001B[39m)\u001B[38;5;241m.\u001B[39mlower()\n\u001B[0;32m      5\u001B[0m activity \u001B[38;5;241m=\u001B[39m \u001B[38;5;124m\"\u001B[39m\u001B[38;5;124mbrez predloga\u001B[39m\u001B[38;5;124m\"\u001B[39m\n",
      "\u001B[1;31mValueError\u001B[0m: could not convert string to float: ''"
     ]
    }
   ],
   "source": [
    "# vnos podatkov\n",
    "temperature = float(input(\"Vnesi trenutno temperaturo (v stopinjah Celzija)\"))\n",
    "weather = input(\"Kakšno je danes vreme (sončno/oblačno/deževno)?\").lower()\n",
    "\n",
    "activity = \"brez predloga\"\n",
    "\n",
    "# preverjanje dejavnosti glede na vreme\n",
    "if temperature > 25 and weather == \"sončno\":\n",
    "    activity = \"piknik v parku\"\n",
    "elif 15 < temperature < 25 and weather == \"oblačno\":\n",
    "    activity = \"sprehod v gozdu\"\n",
    "elif temperature < 15 and weather == \"deževno\":\n",
    "    activity = \"dan v muzeju\"\n",
    "    \n",
    "# izpis predlagane dejavnosti\n",
    "print(\"Predlagana dejavnost: \", activity)"
   ]
  }
 ],
 "metadata": {
  "kernelspec": {
   "display_name": "Python 3",
   "language": "python",
   "name": "python3"
  },
  "language_info": {
   "codemirror_mode": {
    "name": "ipython",
    "version": 2
   },
   "file_extension": ".py",
   "mimetype": "text/x-python",
   "name": "python",
   "nbconvert_exporter": "python",
   "pygments_lexer": "ipython2",
   "version": "2.7.6"
  }
 },
 "nbformat": 4,
 "nbformat_minor": 5
}
