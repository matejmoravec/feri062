{
 "cells": [
  {
   "cell_type": "code",
   "execution_count": 4,
   "id": "initial_id",
   "metadata": {
    "collapsed": true,
    "ExecuteTime": {
     "end_time": "2024-05-08T12:59:19.308910100Z",
     "start_time": "2024-05-08T12:59:19.302215Z"
    }
   },
   "outputs": [
    {
     "name": "stdout",
     "output_type": "stream",
     "text": [
      "Vsota filtriranih števil:  130\n",
      "Filtrirana števila:\n",
      "30\n",
      "100\n"
     ]
    }
   ],
   "source": [
    "numbers = [10, 20, 5, 30, 100]\n",
    "\n",
    "filtered_numbers = []\n",
    "\n",
    "for number in numbers:\n",
    "    if number > 20:\n",
    "        filtered_numbers.append(number)\n",
    "        \n",
    "sum = 0\n",
    "\n",
    "for number in filtered_numbers:\n",
    "    sum += number\n",
    "    \n",
    "print(\"Vsota filtriranih števil: \", sum)\n",
    "\n",
    "print(\"Filtrirana števila:\")\n",
    "for number in filtered_numbers:\n",
    "    print(number)"
   ]
  }
 ],
 "metadata": {
  "kernelspec": {
   "display_name": "Python 3",
   "language": "python",
   "name": "python3"
  },
  "language_info": {
   "codemirror_mode": {
    "name": "ipython",
    "version": 2
   },
   "file_extension": ".py",
   "mimetype": "text/x-python",
   "name": "python",
   "nbconvert_exporter": "python",
   "pygments_lexer": "ipython2",
   "version": "2.7.6"
  }
 },
 "nbformat": 4,
 "nbformat_minor": 5
}
