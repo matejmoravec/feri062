{
 "cells": [
  {
   "cell_type": "code",
   "execution_count": 1,
   "id": "initial_id",
   "metadata": {
    "collapsed": true,
    "ExecuteTime": {
     "end_time": "2024-05-09T08:48:56.079010200Z",
     "start_time": "2024-05-09T08:48:56.068618700Z"
    }
   },
   "outputs": [
    {
     "name": "stdout",
     "output_type": "stream",
     "text": [
      "Najdaljša beseda v nizu je: typesetting,\n",
      "Dolžina najdaljše besede v nizu je: 12\n"
     ]
    }
   ],
   "source": [
    "text = \"Lorem Ipsum is simply dummy text of the printing and typesetting industry. Lorem Ipsum has been the industry's standard dummy text ever since the 1500s, when an unknown printer took a galley of type and scrambled it to make a type specimen book. It has survived not only five centuries, but also the leap into electronic typesetting, remaining essentially unchanged. It was popularised in the 1960s with the release of Letraset sheets containing Lorem Ipsum passages, and more recently with desktop publishing software like Aldus PageMaker including versions of Lorem Ipsum.\"\n",
    "\n",
    "def get_longest_word_in_text(text):\n",
    "    words = text.split()\n",
    "    longest_word = \"\"\n",
    "    for word in words:\n",
    "        if len(word) > len(longest_word):\n",
    "            longest_word = word\n",
    "    return longest_word\n",
    "\n",
    "longest_word = get_longest_word_in_text(text)\n",
    "\n",
    "print(\"Najdaljša beseda v nizu je:\", longest_word)\n",
    "print(\"Dolžina najdaljše besede v nizu je:\", len(longest_word))"
   ]
  }
 ],
 "metadata": {
  "kernelspec": {
   "display_name": "Python 3",
   "language": "python",
   "name": "python3"
  },
  "language_info": {
   "codemirror_mode": {
    "name": "ipython",
    "version": 2
   },
   "file_extension": ".py",
   "mimetype": "text/x-python",
   "name": "python",
   "nbconvert_exporter": "python",
   "pygments_lexer": "ipython2",
   "version": "2.7.6"
  }
 },
 "nbformat": 4,
 "nbformat_minor": 5
}
