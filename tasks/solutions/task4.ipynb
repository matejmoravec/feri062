{
 "cells": [
  {
   "cell_type": "code",
   "execution_count": 1,
   "id": "initial_id",
   "metadata": {
    "collapsed": true,
    "ExecuteTime": {
     "end_time": "2024-04-25T06:33:16.221337100Z",
     "start_time": "2024-04-25T06:33:16.210549500Z"
    }
   },
   "outputs": [],
   "source": [
    "# Prvotno besedilo\n",
    "text = \"Masleno hrustljavo testo je do vrha napolnjeno s svežimi jagodami in prelito z domačo jagodno glazuro. preprosta in okusna sladica se odlično poda s kepico sladoleda ali stepeno smetano. morate jo poskusiti.\""
   ]
  },
  {
   "cell_type": "code",
   "execution_count": 8,
   "outputs": [
    {
     "name": "stdout",
     "output_type": "stream",
     "text": [
      "Prvotno besedilo:\n",
      "Masleno hrustljavo testo je do vrha napolnjeno s svežimi jagodami in prelito z domačo jagodno glazuro. preprosta in okusna sladica se odlično poda s kepico sladoleda ali stepeno smetano. morate jo poskusiti.\n",
      "\n",
      "Popravljeno besedilo:\n",
      "Masleno hrustljavo testo je do vrha napolnjeno s svežimi jagodami in prelito z domačo jagodno glazuro. Preprosta in okusna sladica se odlično poda s kepico sladoleda ali stepeno smetano. Morate jo poskusiti.\n"
     ]
    }
   ],
   "source": [
    "# Prvotno besedilo razdelimo na povedi in vsako poved shranimo kot eno vrednost v seznamu\n",
    "sentences = text.split(\". \")\n",
    "\n",
    "# Pomikamo se skozi povedi in pri vsaki povedi prvo črko zapišemo z veliko\n",
    "for index in range(0, len(sentences)):\n",
    "    sentences[index] = sentences[index].capitalize()\n",
    "    \n",
    "# Posamezne (popravljene) povedi združimo nazaj v eno besedilo\n",
    "corrected_text = \". \".join(sentences)\n",
    "\n",
    "# Izpis prvotnega besedila\n",
    "print(\"Prvotno besedilo:\")\n",
    "print(text)\n",
    "\n",
    "# Prazna vrstica pri izpisu\n",
    "print()\n",
    "\n",
    "# Izpis popravljenega besedila\n",
    "print(\"Popravljeno besedilo:\")\n",
    "print(corrected_text)"
   ],
   "metadata": {
    "collapsed": false,
    "ExecuteTime": {
     "end_time": "2024-04-25T06:43:18.998519200Z",
     "start_time": "2024-04-25T06:43:18.993381700Z"
    }
   },
   "id": "8c2a13b005b7ef3d"
  }
 ],
 "metadata": {
  "kernelspec": {
   "display_name": "Python 3",
   "language": "python",
   "name": "python3"
  },
  "language_info": {
   "codemirror_mode": {
    "name": "ipython",
    "version": 2
   },
   "file_extension": ".py",
   "mimetype": "text/x-python",
   "name": "python",
   "nbconvert_exporter": "python",
   "pygments_lexer": "ipython2",
   "version": "2.7.6"
  }
 },
 "nbformat": 4,
 "nbformat_minor": 5
}
