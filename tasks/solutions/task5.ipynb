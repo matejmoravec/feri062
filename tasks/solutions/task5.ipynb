{
 "cells": [
  {
   "cell_type": "code",
   "execution_count": 1,
   "id": "initial_id",
   "metadata": {
    "collapsed": true,
    "ExecuteTime": {
     "end_time": "2024-05-09T08:50:19.398096600Z",
     "start_time": "2024-05-09T08:50:19.394597600Z"
    }
   },
   "outputs": [],
   "source": [
    "def sum(a, b):\n",
    "    return a + b"
   ]
  },
  {
   "cell_type": "code",
   "execution_count": 2,
   "outputs": [],
   "source": [
    "def average(list):\n",
    "    sum = 0\n",
    "    number_counter = 0\n",
    "    for number in list:\n",
    "        sum += number\n",
    "        number_counter += 1\n",
    "        \n",
    "    return sum / number_counter    "
   ],
   "metadata": {
    "collapsed": false,
    "ExecuteTime": {
     "end_time": "2024-05-09T08:51:20.659694700Z",
     "start_time": "2024-05-09T08:51:20.640054900Z"
    }
   },
   "id": "615e18a2b7e326fd"
  },
  {
   "cell_type": "code",
   "execution_count": 3,
   "outputs": [],
   "source": [
    "def celsius_to_fahrenheit(degrees):\n",
    "    return (degrees * 9 / 5) + 32"
   ],
   "metadata": {
    "collapsed": false,
    "ExecuteTime": {
     "end_time": "2024-05-09T08:51:53.981768900Z",
     "start_time": "2024-05-09T08:51:53.951033500Z"
    }
   },
   "id": "6d13c668c1882c3c"
  },
  {
   "cell_type": "code",
   "execution_count": 4,
   "outputs": [],
   "source": [
    "def is_perfect_number(number):\n",
    "    if number <= 0:\n",
    "        return False\n",
    "    \n",
    "    sum_divisors = 0\n",
    "    for divisor in range(1, number):\n",
    "        if number % divisor == 0:\n",
    "            sum_divisors += divisor\n",
    "            \n",
    "    return sum_divisors == number"
   ],
   "metadata": {
    "collapsed": false,
    "ExecuteTime": {
     "end_time": "2024-05-09T08:57:59.870842400Z",
     "start_time": "2024-05-09T08:57:59.850826100Z"
    }
   },
   "id": "41d0e805aa5b6f"
  },
  {
   "cell_type": "code",
   "execution_count": 5,
   "outputs": [],
   "source": [
    "def sum_odd_index(numbers):\n",
    "    sum = 0\n",
    "    for index in range(1, len(numbers), 2):\n",
    "        sum += numbers[index]\n",
    "    return sum"
   ],
   "metadata": {
    "collapsed": false,
    "ExecuteTime": {
     "end_time": "2024-05-09T08:59:05.454431Z",
     "start_time": "2024-05-09T08:59:05.446615400Z"
    }
   },
   "id": "77a38ee55ed5b35c"
  },
  {
   "cell_type": "code",
   "execution_count": 13,
   "outputs": [
    {
     "name": "stdout",
     "output_type": "stream",
     "text": [
      "Vsota števil 5 in 10 je 15\n",
      "Povprečje števil v seznamu je 5.5\n",
      "20 stopinj Celzija v Fahrenheit je 68.0\n",
      "Ali je število 20 popolno?\n",
      "Ne\n",
      "Ali je število 6 popolno?\n",
      "Da\n",
      "Vsota števil na lihih mestih v seznamu je 30\n"
     ]
    }
   ],
   "source": [
    "print(\"Vsota števil 5 in 10 je\", sum(5, 10))\n",
    "\n",
    "nums = [1, 2, 3, 4, 5, 6, 7, 8, 9, 10]\n",
    "print(\"Povprečje števil v seznamu je\", average(nums))\n",
    "\n",
    "print(\"20 stopinj Celzija v Fahrenheit je\", celsius_to_fahrenheit(20))\n",
    "\n",
    "print(\"Ali je število 20 popolno?\")\n",
    "if is_perfect_number(20):\n",
    "    print(\"Da\")\n",
    "else:\n",
    "    print(\"Ne\")\n",
    "    \n",
    "print(\"Ali je število 6 popolno?\")\n",
    "if is_perfect_number(6):\n",
    "    print(\"Da\")\n",
    "else:\n",
    "    print(\"Ne\")\n",
    "    \n",
    "print(\"Vsota števil na lihih mestih v seznamu je\", sum_odd_index(nums))"
   ],
   "metadata": {
    "collapsed": false,
    "ExecuteTime": {
     "end_time": "2024-05-09T09:03:26.377888300Z",
     "start_time": "2024-05-09T09:03:26.367620500Z"
    }
   },
   "id": "7849e3cf7c934be"
  }
 ],
 "metadata": {
  "kernelspec": {
   "display_name": "Python 3",
   "language": "python",
   "name": "python3"
  },
  "language_info": {
   "codemirror_mode": {
    "name": "ipython",
    "version": 2
   },
   "file_extension": ".py",
   "mimetype": "text/x-python",
   "name": "python",
   "nbconvert_exporter": "python",
   "pygments_lexer": "ipython2",
   "version": "2.7.6"
  }
 },
 "nbformat": 4,
 "nbformat_minor": 5
}
