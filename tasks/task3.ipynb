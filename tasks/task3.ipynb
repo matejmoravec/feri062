{
 "cells": [
  {
   "cell_type": "markdown",
   "source": [
    "# Preverjanje in štetje sodih števil\n",
    "\n",
    "## Opis naloge\n",
    "\n",
    "Zapišite program v programskem jeziku Python, ki analizira seznam celih števil. Vaša glavna naloga je prešteti, koliko števil v seznamu je sodih.\n",
    "\n",
    "## Specifikacije\n",
    "\n",
    "- Seznam celih števil je že zapisan na začetku spodnjega programa.\n",
    "- Program mora poiskati vsa soda števila in jih shraniti v nov seznam.\n",
    "- Program mora izpisati vsa soda števila.\n",
    "- Program mora vsa soda števila."
   ],
   "metadata": {
    "collapsed": false
   },
   "id": "dc10dfb11ca7548d"
  },
  {
   "cell_type": "code",
   "execution_count": 1,
   "outputs": [],
   "source": [
    "numbers = [1, 2, 3, 4, 5, 6, 7, 8, 9, 10]\n",
    "\n"
   ],
   "metadata": {
    "collapsed": false,
    "ExecuteTime": {
     "end_time": "2024-04-10T09:00:03.121407700Z",
     "start_time": "2024-04-10T09:00:03.117228500Z"
    }
   },
   "id": "5529c82af74b8095"
  }
 ],
 "metadata": {
  "kernelspec": {
   "display_name": "Python 3",
   "language": "python",
   "name": "python3"
  },
  "language_info": {
   "codemirror_mode": {
    "name": "ipython",
    "version": 2
   },
   "file_extension": ".py",
   "mimetype": "text/x-python",
   "name": "python",
   "nbconvert_exporter": "python",
   "pygments_lexer": "ipython2",
   "version": "2.7.6"
  }
 },
 "nbformat": 4,
 "nbformat_minor": 5
}
