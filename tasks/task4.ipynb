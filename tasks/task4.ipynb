{
 "cells": [
  {
   "cell_type": "markdown",
   "source": [
    "# Popravljanje besedila - velika začetnica za piko\n",
    "\n",
    "## Opis naloge\n",
    "\n",
    "Zapišite program v programskem jeziku Python, ki poskrbi, da se vsaka poved v besedilu začne z veliko začetnico.\n",
    "\n",
    "## Specifikacije\n",
    "\n",
    "- Besedilo, ki ga morate popraviti, je shranjeno v spremenljivki `text`.\n",
    "- Program mora poskrbeti, da se vsaka poved v besedilu začne z veliko začetnico.\n",
    "- Pri implementaciji sledite komentarjem. Pod vsakim komentarjem zapišite programsko kodo."
   ],
   "metadata": {
    "collapsed": false
   },
   "id": "b6cdbdcf93428f32"
  },
  {
   "cell_type": "code",
   "execution_count": 1,
   "outputs": [],
   "source": [
    "# Prvotno besedilo\n",
    "text = \"Masleno hrustljavo testo je do vrha napolnjeno s svežimi jagodami in prelito z domačo jagodno glazuro. preprosta in okusna sladica se odlično poda s kepico sladoleda ali stepeno smetano. morate jo poskusiti.\""
   ],
   "metadata": {
    "collapsed": false,
    "ExecuteTime": {
     "start_time": "2024-04-25T06:33:16.210549500Z"
    }
   },
   "id": "initial_id"
  },
  {
   "cell_type": "code",
   "execution_count": 9,
   "outputs": [],
   "source": [
    "# Prvotno besedilo razdelimo na povedi in vsako poved shranimo kot eno vrednost v seznamu\n",
    "# Predvidevamo, da je besedilo slovnično pravilno zapisano\n",
    "\n",
    "\n",
    "# Pomikamo se skozi povedi in pri vsaki povedi prvo črko zapišemo z veliko\n",
    "\n",
    "    \n",
    "# Posamezne (popravljene) povedi združimo nazaj v eno besedilo\n",
    "\n",
    "\n",
    "# Izpis prvotnega besedila\n",
    "\n",
    "\n",
    "# Prazna vrstica pri izpisu\n",
    "\n",
    "\n",
    "# Izpis popravljenega besedila\n"
   ],
   "metadata": {
    "collapsed": false,
    "ExecuteTime": {
     "end_time": "2024-04-25T06:58:10.753337900Z",
     "start_time": "2024-04-25T06:58:10.750402600Z"
    }
   },
   "id": "8c2a13b005b7ef3d"
  }
 ],
 "metadata": {
  "kernelspec": {
   "display_name": "Python 3",
   "language": "python",
   "name": "python3"
  },
  "language_info": {
   "codemirror_mode": {
    "name": "ipython",
    "version": 2
   },
   "file_extension": ".py",
   "mimetype": "text/x-python",
   "name": "python",
   "nbconvert_exporter": "python",
   "pygments_lexer": "ipython2",
   "version": "2.7.6"
  }
 },
 "nbformat": 4,
 "nbformat_minor": 5
}
